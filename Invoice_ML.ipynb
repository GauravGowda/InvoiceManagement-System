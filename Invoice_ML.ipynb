{
  "nbformat": 4,
  "nbformat_minor": 0,
  "metadata": {
    "colab": {
      "name": "Untitled2.ipynb",
      "provenance": [],
      "collapsed_sections": []
    },
    "kernelspec": {
      "name": "python3",
      "display_name": "Python 3"
    }
  },
  "cells": [
    {
      "cell_type": "code",
      "metadata": {
        "colab": {
          "resources": {
            "http://localhost:8080/nbextensions/google.colab/files.js": {
              "data": "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",
              "ok": true,
              "headers": [
                [
                  "content-type",
                  "application/javascript"
                ]
              ],
              "status": 200,
              "status_text": ""
            }
          },
          "base_uri": "https://localhost:8080/",
          "height": 73
        },
        "id": "mGVQYq_XhaXV",
        "outputId": "014da0f0-b8bd-4af3-cbdf-28087df328ac"
      },
      "source": [
        "from google.colab import files\n",
        "uploaded = files.upload()"
      ],
      "execution_count": null,
      "outputs": [
        {
          "output_type": "display_data",
          "data": {
            "text/html": [
              "\n",
              "     <input type=\"file\" id=\"files-0592dc6f-4abb-4f97-aa06-1081ac66c822\" name=\"files[]\" multiple disabled\n",
              "        style=\"border:none\" />\n",
              "     <output id=\"result-0592dc6f-4abb-4f97-aa06-1081ac66c822\">\n",
              "      Upload widget is only available when the cell has been executed in the\n",
              "      current browser session. Please rerun this cell to enable.\n",
              "      </output>\n",
              "      <script src=\"/nbextensions/google.colab/files.js\"></script> "
            ],
            "text/plain": [
              "<IPython.core.display.HTML object>"
            ]
          },
          "metadata": {
            "tags": []
          }
        },
        {
          "output_type": "stream",
          "text": [
            "Saving train_preprocess_H2HBABBA3140.csv to train_preprocess_H2HBABBA3140 (1).csv\n"
          ],
          "name": "stdout"
        }
      ]
    },
    {
      "cell_type": "code",
      "metadata": {
        "id": "nB8tb5IlhdHG"
      },
      "source": [
        "import numpy as np\n",
        "import pandas as pd\n",
        "import datetime\n",
        "import matplotlib.pyplot as plt\n",
        "%matplotlib inline\n",
        "\n",
        "import seaborn as sns\n",
        "import sklearn\n",
        "\n",
        "from sklearn.linear_model import LinearRegression\n",
        "from sklearn.ensemble import RandomForestRegressor\n",
        "\n",
        "# to split and standarize the datasets\n",
        "from sklearn.model_selection import train_test_split\n",
        "from sklearn.preprocessing import StandardScaler\n",
        "\n",
        "# to evaluate regression models\n",
        "from sklearn.metrics import mean_squared_error\n",
        "\n",
        "import warnings\n",
        "warnings.filterwarnings('ignore')\n",
        "import io"
      ],
      "execution_count": null,
      "outputs": []
    },
    {
      "cell_type": "code",
      "metadata": {
        "id": "-tqQcv74CGQn"
      },
      "source": [
        "df = pd.read_csv(io.BytesIO(uploaded['train_preprocess_H2HBABBA3140.csv']))"
      ],
      "execution_count": null,
      "outputs": []
    },
    {
      "cell_type": "code",
      "metadata": {
        "id": "d_y5dIBECVzP"
      },
      "source": [
        "import io\n",
        "import pandas as pd\n",
        "import numpy as np\n",
        "import seaborn as sns\n",
        "import datetime \n",
        "import sklearn\n",
        "import warnings\n",
        "warnings.filterwarnings(\"ignore\")"
      ],
      "execution_count": null,
      "outputs": []
    },
    {
      "cell_type": "code",
      "metadata": {
        "colab": {
          "base_uri": "https://localhost:8080/",
          "height": 325
        },
        "id": "mTPb35_oC-DN",
        "outputId": "35e45f55-48c5-4701-b636-8b645fece6e9"
      },
      "source": [
        "df.head()"
      ],
      "execution_count": null,
      "outputs": [
        {
          "output_type": "execute_result",
          "data": {
            "text/html": [
              "<div>\n",
              "<style scoped>\n",
              "    .dataframe tbody tr th:only-of-type {\n",
              "        vertical-align: middle;\n",
              "    }\n",
              "\n",
              "    .dataframe tbody tr th {\n",
              "        vertical-align: top;\n",
              "    }\n",
              "\n",
              "    .dataframe thead th {\n",
              "        text-align: right;\n",
              "    }\n",
              "</style>\n",
              "<table border=\"1\" class=\"dataframe\">\n",
              "  <thead>\n",
              "    <tr style=\"text-align: right;\">\n",
              "      <th></th>\n",
              "      <th>business_code</th>\n",
              "      <th>cust_number</th>\n",
              "      <th>name_customer</th>\n",
              "      <th>clear_date</th>\n",
              "      <th>buisness_year</th>\n",
              "      <th>doc_id</th>\n",
              "      <th>posting_date</th>\n",
              "      <th>document_create_date</th>\n",
              "      <th>document_create_date.1</th>\n",
              "      <th>due_in_date</th>\n",
              "      <th>invoice_currency</th>\n",
              "      <th>document type</th>\n",
              "      <th>posting_id</th>\n",
              "      <th>area_business</th>\n",
              "      <th>total_open_amount</th>\n",
              "      <th>baseline_create_date</th>\n",
              "      <th>cust_payment_terms</th>\n",
              "      <th>invoice_id</th>\n",
              "      <th>isOpen</th>\n",
              "    </tr>\n",
              "  </thead>\n",
              "  <tbody>\n",
              "    <tr>\n",
              "      <th>0</th>\n",
              "      <td>U001</td>\n",
              "      <td>0200769623</td>\n",
              "      <td>WAL-MAR foundation</td>\n",
              "      <td>2019-11-25 00:00:00</td>\n",
              "      <td>2019.0</td>\n",
              "      <td>1.930148e+09</td>\n",
              "      <td>2019-11-13</td>\n",
              "      <td>20191113</td>\n",
              "      <td>20191113</td>\n",
              "      <td>20191128.0</td>\n",
              "      <td>USD</td>\n",
              "      <td>RV</td>\n",
              "      <td>1.0</td>\n",
              "      <td>NaN</td>\n",
              "      <td>33133.29</td>\n",
              "      <td>20191113.0</td>\n",
              "      <td>NAH4</td>\n",
              "      <td>1.930148e+09</td>\n",
              "      <td>0</td>\n",
              "    </tr>\n",
              "    <tr>\n",
              "      <th>1</th>\n",
              "      <td>CA02</td>\n",
              "      <td>0140104440</td>\n",
              "      <td>SO systems</td>\n",
              "      <td>2019-05-30 00:00:00</td>\n",
              "      <td>2019.0</td>\n",
              "      <td>2.960548e+09</td>\n",
              "      <td>2019-05-16</td>\n",
              "      <td>20190516</td>\n",
              "      <td>20190516</td>\n",
              "      <td>20190527.0</td>\n",
              "      <td>CAD</td>\n",
              "      <td>RV</td>\n",
              "      <td>1.0</td>\n",
              "      <td>NaN</td>\n",
              "      <td>105416.43</td>\n",
              "      <td>20190517.0</td>\n",
              "      <td>CA10</td>\n",
              "      <td>2.960548e+09</td>\n",
              "      <td>0</td>\n",
              "    </tr>\n",
              "    <tr>\n",
              "      <th>2</th>\n",
              "      <td>U001</td>\n",
              "      <td>CCU013</td>\n",
              "      <td>KRAFT F corporation</td>\n",
              "      <td>2019-03-01 00:00:00</td>\n",
              "      <td>2019.0</td>\n",
              "      <td>1.928622e+09</td>\n",
              "      <td>2019-01-18</td>\n",
              "      <td>20190114</td>\n",
              "      <td>20190118</td>\n",
              "      <td>20190118.0</td>\n",
              "      <td>USD</td>\n",
              "      <td>RV</td>\n",
              "      <td>1.0</td>\n",
              "      <td>NaN</td>\n",
              "      <td>3992.64</td>\n",
              "      <td>20190118.0</td>\n",
              "      <td>NAX2</td>\n",
              "      <td>1.928622e+09</td>\n",
              "      <td>0</td>\n",
              "    </tr>\n",
              "    <tr>\n",
              "      <th>3</th>\n",
              "      <td>U001</td>\n",
              "      <td>0200793568</td>\n",
              "      <td>SUPE llc</td>\n",
              "      <td>2019-09-19 00:00:00</td>\n",
              "      <td>2019.0</td>\n",
              "      <td>1.929823e+09</td>\n",
              "      <td>2019-09-02</td>\n",
              "      <td>20190902</td>\n",
              "      <td>20190902</td>\n",
              "      <td>20190917.0</td>\n",
              "      <td>USD</td>\n",
              "      <td>RV</td>\n",
              "      <td>1.0</td>\n",
              "      <td>NaN</td>\n",
              "      <td>87820.44</td>\n",
              "      <td>20190902.0</td>\n",
              "      <td>NAA8</td>\n",
              "      <td>1.929823e+09</td>\n",
              "      <td>0</td>\n",
              "    </tr>\n",
              "    <tr>\n",
              "      <th>4</th>\n",
              "      <td>U001</td>\n",
              "      <td>0200794332</td>\n",
              "      <td>COST foundation</td>\n",
              "      <td>2019-09-23 00:00:00</td>\n",
              "      <td>2019.0</td>\n",
              "      <td>1.929831e+09</td>\n",
              "      <td>2019-09-06</td>\n",
              "      <td>20190905</td>\n",
              "      <td>20190906</td>\n",
              "      <td>20190921.0</td>\n",
              "      <td>USD</td>\n",
              "      <td>RV</td>\n",
              "      <td>1.0</td>\n",
              "      <td>NaN</td>\n",
              "      <td>5685.93</td>\n",
              "      <td>20190906.0</td>\n",
              "      <td>NAAX</td>\n",
              "      <td>1.929831e+09</td>\n",
              "      <td>0</td>\n",
              "    </tr>\n",
              "  </tbody>\n",
              "</table>\n",
              "</div>"
            ],
            "text/plain": [
              "  business_code cust_number  ...    invoice_id isOpen\n",
              "0          U001  0200769623  ...  1.930148e+09      0\n",
              "1          CA02  0140104440  ...  2.960548e+09      0\n",
              "2          U001      CCU013  ...  1.928622e+09      0\n",
              "3          U001  0200793568  ...  1.929823e+09      0\n",
              "4          U001  0200794332  ...  1.929831e+09      0\n",
              "\n",
              "[5 rows x 19 columns]"
            ]
          },
          "metadata": {
            "tags": []
          },
          "execution_count": 138
        }
      ]
    },
    {
      "cell_type": "code",
      "metadata": {
        "colab": {
          "base_uri": "https://localhost:8080/"
        },
        "id": "s8XtG-LxDFvr",
        "outputId": "f411b752-e895-4f0b-9722-6613d7dc74d1"
      },
      "source": [
        "df.shape"
      ],
      "execution_count": null,
      "outputs": [
        {
          "output_type": "execute_result",
          "data": {
            "text/plain": [
              "(50000, 19)"
            ]
          },
          "metadata": {
            "tags": []
          },
          "execution_count": 139
        }
      ]
    },
    {
      "cell_type": "code",
      "metadata": {
        "colab": {
          "base_uri": "https://localhost:8080/"
        },
        "id": "o7OYujjlDL3N",
        "outputId": "4e03ecd5-2cbc-45b2-9d59-6f17e7b42131"
      },
      "source": [
        "df.isnull().sum()"
      ],
      "execution_count": null,
      "outputs": [
        {
          "output_type": "execute_result",
          "data": {
            "text/plain": [
              "business_code                 0\n",
              "cust_number                   0\n",
              "name_customer                 0\n",
              "clear_date                10000\n",
              "buisness_year                 0\n",
              "doc_id                        0\n",
              "posting_date                  0\n",
              "document_create_date          0\n",
              "document_create_date.1        0\n",
              "due_in_date                   0\n",
              "invoice_currency              0\n",
              "document type                 0\n",
              "posting_id                    0\n",
              "area_business             50000\n",
              "total_open_amount             0\n",
              "baseline_create_date          0\n",
              "cust_payment_terms            0\n",
              "invoice_id                    3\n",
              "isOpen                        0\n",
              "dtype: int64"
            ]
          },
          "metadata": {
            "tags": []
          },
          "execution_count": 140
        }
      ]
    },
    {
      "cell_type": "code",
      "metadata": {
        "id": "ZS-vRdNtD2ki"
      },
      "source": [
        "df.drop(columns='isOpen',axis=1,inplace=True)\n",
        "df.drop(columns='area_business',axis=1,inplace=True)\n",
        "df.drop(columns='invoice_id',axis=1,inplace=True)\n",
        "df.drop(columns='document_create_date.1',axis=1,inplace=True)\n",
        "df.drop(columns='posting_id',axis=1,inplace=True)\n",
        "df.drop(columns='doc_id',axis=1,inplace=True)\n",
        "df.drop(columns='document type',axis=1,inplace=True)"
      ],
      "execution_count": null,
      "outputs": []
    },
    {
      "cell_type": "code",
      "metadata": {
        "id": "BfJ8-sQlFGtP"
      },
      "source": [
        "df.drop(columns='document_create_date',axis=1,inplace=True)"
      ],
      "execution_count": null,
      "outputs": []
    },
    {
      "cell_type": "code",
      "metadata": {
        "colab": {
          "base_uri": "https://localhost:8080/"
        },
        "id": "B64CPEj_FrG8",
        "outputId": "92e9411b-9da1-4d93-9d33-fd8efcb9a9a5"
      },
      "source": [
        "df.info()"
      ],
      "execution_count": null,
      "outputs": [
        {
          "output_type": "stream",
          "text": [
            "<class 'pandas.core.frame.DataFrame'>\n",
            "RangeIndex: 50000 entries, 0 to 49999\n",
            "Data columns (total 11 columns):\n",
            " #   Column                Non-Null Count  Dtype  \n",
            "---  ------                --------------  -----  \n",
            " 0   business_code         50000 non-null  object \n",
            " 1   cust_number           50000 non-null  object \n",
            " 2   name_customer         50000 non-null  object \n",
            " 3   clear_date            40000 non-null  object \n",
            " 4   buisness_year         50000 non-null  float64\n",
            " 5   posting_date          50000 non-null  object \n",
            " 6   due_in_date           50000 non-null  float64\n",
            " 7   invoice_currency      50000 non-null  object \n",
            " 8   total_open_amount     50000 non-null  float64\n",
            " 9   baseline_create_date  50000 non-null  float64\n",
            " 10  cust_payment_terms    50000 non-null  object \n",
            "dtypes: float64(4), object(7)\n",
            "memory usage: 4.2+ MB\n"
          ],
          "name": "stdout"
        }
      ]
    },
    {
      "cell_type": "code",
      "metadata": {
        "id": "-BGR8cF-D3Gr"
      },
      "source": [
        "df['clear_date']= pd.to_datetime(df['clear_date'],format='%Y %m %d')"
      ],
      "execution_count": null,
      "outputs": []
    },
    {
      "cell_type": "code",
      "metadata": {
        "id": "qG7uWPK4DR6o"
      },
      "source": [
        "df['due_in_date']= pd.to_datetime(df['due_in_date'],format='%Y%m%d')"
      ],
      "execution_count": null,
      "outputs": []
    },
    {
      "cell_type": "code",
      "metadata": {
        "id": "KTHfSmPkDr4i"
      },
      "source": [
        "df['posting_date']= pd.to_datetime(df['posting_date'],format='%Y %m %d')"
      ],
      "execution_count": null,
      "outputs": []
    },
    {
      "cell_type": "code",
      "metadata": {
        "id": "DmIDt04dDtc7"
      },
      "source": [
        "df['delay'] = df['clear_date'] - df['due_in_date']"
      ],
      "execution_count": null,
      "outputs": []
    },
    {
      "cell_type": "code",
      "metadata": {
        "id": "d0fK3bk8F0Tw"
      },
      "source": [
        "\n",
        "df[\"delay\"] = (df[\"delay\"]).dt.days"
      ],
      "execution_count": null,
      "outputs": []
    },
    {
      "cell_type": "code",
      "metadata": {
        "colab": {
          "base_uri": "https://localhost:8080/"
        },
        "id": "1XiynVJRF2PW",
        "outputId": "0cd2baa1-2735-4647-e4d7-b10f7997e729"
      },
      "source": [
        "df[\"delay\"]"
      ],
      "execution_count": null,
      "outputs": [
        {
          "output_type": "execute_result",
          "data": {
            "text/plain": [
              "0        -3.0\n",
              "1         3.0\n",
              "2        42.0\n",
              "3         2.0\n",
              "4         2.0\n",
              "         ... \n",
              "49995     8.0\n",
              "49996     6.0\n",
              "49997     6.0\n",
              "49998     1.0\n",
              "49999     NaN\n",
              "Name: delay, Length: 50000, dtype: float64"
            ]
          },
          "metadata": {
            "tags": []
          },
          "execution_count": 149
        }
      ]
    },
    {
      "cell_type": "markdown",
      "metadata": {
        "id": "XSX9Hs2fgrJe"
      },
      "source": [
        "##REMOVING NULL VALUES"
      ]
    },
    {
      "cell_type": "code",
      "metadata": {
        "colab": {
          "base_uri": "https://localhost:8080/"
        },
        "id": "NoGI9R91F3ir",
        "outputId": "efd57e64-f868-44ca-db9c-55de23353c30"
      },
      "source": [
        "df.isnull().sum()"
      ],
      "execution_count": null,
      "outputs": [
        {
          "output_type": "execute_result",
          "data": {
            "text/plain": [
              "business_code               0\n",
              "cust_number                 0\n",
              "name_customer               0\n",
              "clear_date              10000\n",
              "buisness_year               0\n",
              "posting_date                0\n",
              "due_in_date                 0\n",
              "invoice_currency            0\n",
              "total_open_amount           0\n",
              "baseline_create_date        0\n",
              "cust_payment_terms          0\n",
              "delay                   10000\n",
              "dtype: int64"
            ]
          },
          "metadata": {
            "tags": []
          },
          "execution_count": 150
        }
      ]
    },
    {
      "cell_type": "code",
      "metadata": {
        "id": "ObW2KsX4F7qj"
      },
      "source": [
        "df.drop(columns='clear_date',axis=1,inplace=True)"
      ],
      "execution_count": null,
      "outputs": []
    },
    {
      "cell_type": "code",
      "metadata": {
        "colab": {
          "base_uri": "https://localhost:8080/"
        },
        "id": "TbxcCqc6rJO0",
        "outputId": "3a3d340d-ce7f-42dd-ff65-ac11e9058e5b"
      },
      "source": [
        "df['business_code'] = np.where(df['business_code'].isin(['U005','U007']),'Other Code',df['business_code'])\n",
        "df.business_code.value_counts()"
      ],
      "execution_count": null,
      "outputs": [
        {
          "output_type": "execute_result",
          "data": {
            "text/plain": [
              "U001          45332\n",
              "CA02           3913\n",
              "U013            573\n",
              "U002            167\n",
              "Other Code       15\n",
              "Name: business_code, dtype: int64"
            ]
          },
          "metadata": {
            "tags": []
          },
          "execution_count": 152
        }
      ]
    },
    {
      "cell_type": "code",
      "metadata": {
        "colab": {
          "base_uri": "https://localhost:8080/"
        },
        "id": "tsdbkAGt3NUs",
        "outputId": "1a2c4845-50bf-40ac-8349-1b03e3b27a07"
      },
      "source": [
        "df.isnull().sum()"
      ],
      "execution_count": null,
      "outputs": [
        {
          "output_type": "execute_result",
          "data": {
            "text/plain": [
              "business_code               0\n",
              "cust_number                 0\n",
              "name_customer               0\n",
              "buisness_year               0\n",
              "posting_date                0\n",
              "due_in_date                 0\n",
              "invoice_currency            0\n",
              "total_open_amount           0\n",
              "baseline_create_date        0\n",
              "cust_payment_terms          0\n",
              "delay                   10000\n",
              "dtype: int64"
            ]
          },
          "metadata": {
            "tags": []
          },
          "execution_count": 153
        }
      ]
    },
    {
      "cell_type": "code",
      "metadata": {
        "colab": {
          "base_uri": "https://localhost:8080/"
        },
        "id": "YNZtojdC5ovl",
        "outputId": "c6fff733-22da-48c5-8e05-bfdef9a19594"
      },
      "source": [
        "df.isnull().values.any()"
      ],
      "execution_count": null,
      "outputs": [
        {
          "output_type": "execute_result",
          "data": {
            "text/plain": [
              "True"
            ]
          },
          "metadata": {
            "tags": []
          },
          "execution_count": 154
        }
      ]
    },
    {
      "cell_type": "markdown",
      "metadata": {
        "id": "GIVF_I4_hTdd"
      },
      "source": [
        "##DATA PREPROCESSING"
      ]
    },
    {
      "cell_type": "code",
      "metadata": {
        "id": "0Q37UaR4GQtd"
      },
      "source": [
        "main_train = df[df.delay.isnull()==False]\n",
        "main_test = df[df.delay.isnull()]"
      ],
      "execution_count": null,
      "outputs": []
    },
    {
      "cell_type": "code",
      "metadata": {
        "colab": {
          "base_uri": "https://localhost:8080/"
        },
        "id": "DqSrz0OwGXjc",
        "outputId": "5297bdc6-1ced-47c1-e618-41351cbfb68e"
      },
      "source": [
        "main_train.shape,main_test.shape"
      ],
      "execution_count": null,
      "outputs": [
        {
          "output_type": "execute_result",
          "data": {
            "text/plain": [
              "((40000, 11), (10000, 11))"
            ]
          },
          "metadata": {
            "tags": []
          },
          "execution_count": 156
        }
      ]
    },
    {
      "cell_type": "code",
      "metadata": {
        "colab": {
          "base_uri": "https://localhost:8080/"
        },
        "id": "LvtqQyXfGZRr",
        "outputId": "70f501df-1799-4ba2-a768-a721c62d926d"
      },
      "source": [
        "main_train.isna().sum()"
      ],
      "execution_count": null,
      "outputs": [
        {
          "output_type": "execute_result",
          "data": {
            "text/plain": [
              "business_code           0\n",
              "cust_number             0\n",
              "name_customer           0\n",
              "buisness_year           0\n",
              "posting_date            0\n",
              "due_in_date             0\n",
              "invoice_currency        0\n",
              "total_open_amount       0\n",
              "baseline_create_date    0\n",
              "cust_payment_terms      0\n",
              "delay                   0\n",
              "dtype: int64"
            ]
          },
          "metadata": {
            "tags": []
          },
          "execution_count": 157
        }
      ]
    },
    {
      "cell_type": "code",
      "metadata": {
        "colab": {
          "base_uri": "https://localhost:8080/"
        },
        "id": "L03evL5k6bk4",
        "outputId": "8b2f4632-4e13-4a4a-fb13-35f123ed529f"
      },
      "source": [
        "main_train.isnull().sum()"
      ],
      "execution_count": null,
      "outputs": [
        {
          "output_type": "execute_result",
          "data": {
            "text/plain": [
              "business_code           0\n",
              "cust_number             0\n",
              "name_customer           0\n",
              "buisness_year           0\n",
              "posting_date            0\n",
              "due_in_date             0\n",
              "invoice_currency        0\n",
              "total_open_amount       0\n",
              "baseline_create_date    0\n",
              "cust_payment_terms      0\n",
              "delay                   0\n",
              "dtype: int64"
            ]
          },
          "metadata": {
            "tags": []
          },
          "execution_count": 158
        }
      ]
    },
    {
      "cell_type": "code",
      "metadata": {
        "colab": {
          "base_uri": "https://localhost:8080/"
        },
        "id": "4heo6t_oGagS",
        "outputId": "989141da-73e8-4e51-afac-afc8dbe2a19a"
      },
      "source": [
        "main_train.info()"
      ],
      "execution_count": null,
      "outputs": [
        {
          "output_type": "stream",
          "text": [
            "<class 'pandas.core.frame.DataFrame'>\n",
            "Int64Index: 40000 entries, 0 to 49998\n",
            "Data columns (total 11 columns):\n",
            " #   Column                Non-Null Count  Dtype         \n",
            "---  ------                --------------  -----         \n",
            " 0   business_code         40000 non-null  object        \n",
            " 1   cust_number           40000 non-null  object        \n",
            " 2   name_customer         40000 non-null  object        \n",
            " 3   buisness_year         40000 non-null  float64       \n",
            " 4   posting_date          40000 non-null  datetime64[ns]\n",
            " 5   due_in_date           40000 non-null  datetime64[ns]\n",
            " 6   invoice_currency      40000 non-null  object        \n",
            " 7   total_open_amount     40000 non-null  float64       \n",
            " 8   baseline_create_date  40000 non-null  float64       \n",
            " 9   cust_payment_terms    40000 non-null  object        \n",
            " 10  delay                 40000 non-null  float64       \n",
            "dtypes: datetime64[ns](2), float64(4), object(5)\n",
            "memory usage: 3.7+ MB\n"
          ],
          "name": "stdout"
        }
      ]
    },
    {
      "cell_type": "code",
      "metadata": {
        "colab": {
          "base_uri": "https://localhost:8080/"
        },
        "id": "ZUkaZpIDGf8d",
        "outputId": "953e95a5-9cf3-4017-abb9-16396fd288e5"
      },
      "source": [
        "main_train.nunique()"
      ],
      "execution_count": null,
      "outputs": [
        {
          "output_type": "execute_result",
          "data": {
            "text/plain": [
              "business_code               5\n",
              "cust_number              1314\n",
              "name_customer            3867\n",
              "buisness_year               2\n",
              "posting_date              423\n",
              "due_in_date               497\n",
              "invoice_currency            2\n",
              "total_open_amount       35591\n",
              "baseline_create_date      430\n",
              "cust_payment_terms         70\n",
              "delay                     186\n",
              "dtype: int64"
            ]
          },
          "metadata": {
            "tags": []
          },
          "execution_count": 160
        }
      ]
    },
    {
      "cell_type": "code",
      "metadata": {
        "colab": {
          "base_uri": "https://localhost:8080/"
        },
        "id": "8qSpHfCoGjeh",
        "outputId": "f6c75aa8-3145-47f0-c7c6-0c3749c347a2"
      },
      "source": [
        "main_train['posting_date'].min,main_train['posting_date'].max"
      ],
      "execution_count": null,
      "outputs": [
        {
          "output_type": "execute_result",
          "data": {
            "text/plain": [
              "(<bound method Series.min of 0       2019-11-13\n",
              " 1       2019-05-16\n",
              " 2       2019-01-18\n",
              " 3       2019-09-02\n",
              " 4       2019-09-06\n",
              "            ...    \n",
              " 49994   2019-08-20\n",
              " 49995   2019-01-31\n",
              " 49996   2019-05-21\n",
              " 49997   2019-10-17\n",
              " 49998   2019-06-04\n",
              " Name: posting_date, Length: 40000, dtype: datetime64[ns]>,\n",
              " <bound method Series.max of 0       2019-11-13\n",
              " 1       2019-05-16\n",
              " 2       2019-01-18\n",
              " 3       2019-09-02\n",
              " 4       2019-09-06\n",
              "            ...    \n",
              " 49994   2019-08-20\n",
              " 49995   2019-01-31\n",
              " 49996   2019-05-21\n",
              " 49997   2019-10-17\n",
              " 49998   2019-06-04\n",
              " Name: posting_date, Length: 40000, dtype: datetime64[ns]>)"
            ]
          },
          "metadata": {
            "tags": []
          },
          "execution_count": 161
        }
      ]
    },
    {
      "cell_type": "code",
      "metadata": {
        "colab": {
          "base_uri": "https://localhost:8080/"
        },
        "id": "q535cbZ9Goas",
        "outputId": "8cbc44d5-00dd-4443-8d28-439a5bdebd75"
      },
      "source": [
        "main_train.invoice_currency.value_counts()"
      ],
      "execution_count": null,
      "outputs": [
        {
          "output_type": "execute_result",
          "data": {
            "text/plain": [
              "USD    36821\n",
              "CAD     3179\n",
              "Name: invoice_currency, dtype: int64"
            ]
          },
          "metadata": {
            "tags": []
          },
          "execution_count": 162
        }
      ]
    },
    {
      "cell_type": "code",
      "metadata": {
        "colab": {
          "base_uri": "https://localhost:8080/",
          "height": 172
        },
        "id": "rYw-cY07GufH",
        "outputId": "a3f9a4d4-3866-4820-fd37-3c329d7cdd2f"
      },
      "source": [
        "main_train.cov()"
      ],
      "execution_count": null,
      "outputs": [
        {
          "output_type": "execute_result",
          "data": {
            "text/html": [
              "<div>\n",
              "<style scoped>\n",
              "    .dataframe tbody tr th:only-of-type {\n",
              "        vertical-align: middle;\n",
              "    }\n",
              "\n",
              "    .dataframe tbody tr th {\n",
              "        vertical-align: top;\n",
              "    }\n",
              "\n",
              "    .dataframe thead th {\n",
              "        text-align: right;\n",
              "    }\n",
              "</style>\n",
              "<table border=\"1\" class=\"dataframe\">\n",
              "  <thead>\n",
              "    <tr style=\"text-align: right;\">\n",
              "      <th></th>\n",
              "      <th>buisness_year</th>\n",
              "      <th>total_open_amount</th>\n",
              "      <th>baseline_create_date</th>\n",
              "      <th>delay</th>\n",
              "    </tr>\n",
              "  </thead>\n",
              "  <tbody>\n",
              "    <tr>\n",
              "      <th>buisness_year</th>\n",
              "      <td>0.113399</td>\n",
              "      <td>-1.813447e+02</td>\n",
              "      <td>1.041408e+03</td>\n",
              "      <td>-0.028996</td>\n",
              "    </tr>\n",
              "    <tr>\n",
              "      <th>total_open_amount</th>\n",
              "      <td>-181.344690</td>\n",
              "      <td>1.596826e+09</td>\n",
              "      <td>-1.486561e+06</td>\n",
              "      <td>602.498417</td>\n",
              "    </tr>\n",
              "    <tr>\n",
              "      <th>baseline_create_date</th>\n",
              "      <td>1041.407908</td>\n",
              "      <td>-1.486561e+06</td>\n",
              "      <td>1.037870e+07</td>\n",
              "      <td>-452.894396</td>\n",
              "    </tr>\n",
              "    <tr>\n",
              "      <th>delay</th>\n",
              "      <td>-0.028996</td>\n",
              "      <td>6.024984e+02</td>\n",
              "      <td>-4.528944e+02</td>\n",
              "      <td>121.651122</td>\n",
              "    </tr>\n",
              "  </tbody>\n",
              "</table>\n",
              "</div>"
            ],
            "text/plain": [
              "                      buisness_year  ...       delay\n",
              "buisness_year              0.113399  ...   -0.028996\n",
              "total_open_amount       -181.344690  ...  602.498417\n",
              "baseline_create_date    1041.407908  ... -452.894396\n",
              "delay                     -0.028996  ...  121.651122\n",
              "\n",
              "[4 rows x 4 columns]"
            ]
          },
          "metadata": {
            "tags": []
          },
          "execution_count": 163
        }
      ]
    },
    {
      "cell_type": "code",
      "metadata": {
        "colab": {
          "base_uri": "https://localhost:8080/",
          "height": 172
        },
        "id": "yfycbBbXGzES",
        "outputId": "fcf9ac47-d8c1-4d57-f2d6-20f5f683bc15"
      },
      "source": [
        "main_train.corr()"
      ],
      "execution_count": null,
      "outputs": [
        {
          "output_type": "execute_result",
          "data": {
            "text/html": [
              "<div>\n",
              "<style scoped>\n",
              "    .dataframe tbody tr th:only-of-type {\n",
              "        vertical-align: middle;\n",
              "    }\n",
              "\n",
              "    .dataframe tbody tr th {\n",
              "        vertical-align: top;\n",
              "    }\n",
              "\n",
              "    .dataframe thead th {\n",
              "        text-align: right;\n",
              "    }\n",
              "</style>\n",
              "<table border=\"1\" class=\"dataframe\">\n",
              "  <thead>\n",
              "    <tr style=\"text-align: right;\">\n",
              "      <th></th>\n",
              "      <th>buisness_year</th>\n",
              "      <th>total_open_amount</th>\n",
              "      <th>baseline_create_date</th>\n",
              "      <th>delay</th>\n",
              "    </tr>\n",
              "  </thead>\n",
              "  <tbody>\n",
              "    <tr>\n",
              "      <th>buisness_year</th>\n",
              "      <td>1.000000</td>\n",
              "      <td>-0.013476</td>\n",
              "      <td>0.959943</td>\n",
              "      <td>-0.007807</td>\n",
              "    </tr>\n",
              "    <tr>\n",
              "      <th>total_open_amount</th>\n",
              "      <td>-0.013476</td>\n",
              "      <td>1.000000</td>\n",
              "      <td>-0.011547</td>\n",
              "      <td>0.001367</td>\n",
              "    </tr>\n",
              "    <tr>\n",
              "      <th>baseline_create_date</th>\n",
              "      <td>0.959943</td>\n",
              "      <td>-0.011547</td>\n",
              "      <td>1.000000</td>\n",
              "      <td>-0.012746</td>\n",
              "    </tr>\n",
              "    <tr>\n",
              "      <th>delay</th>\n",
              "      <td>-0.007807</td>\n",
              "      <td>0.001367</td>\n",
              "      <td>-0.012746</td>\n",
              "      <td>1.000000</td>\n",
              "    </tr>\n",
              "  </tbody>\n",
              "</table>\n",
              "</div>"
            ],
            "text/plain": [
              "                      buisness_year  ...     delay\n",
              "buisness_year              1.000000  ... -0.007807\n",
              "total_open_amount         -0.013476  ...  0.001367\n",
              "baseline_create_date       0.959943  ... -0.012746\n",
              "delay                     -0.007807  ...  1.000000\n",
              "\n",
              "[4 rows x 4 columns]"
            ]
          },
          "metadata": {
            "tags": []
          },
          "execution_count": 164
        }
      ]
    },
    {
      "cell_type": "code",
      "metadata": {
        "colab": {
          "base_uri": "https://localhost:8080/"
        },
        "id": "GAx-ReP3G0aB",
        "outputId": "ca044a46-c5e4-4369-bd83-9506a2e23214"
      },
      "source": [
        "# For catagorical columns with relatively low unique value (<= 12) -- looking for value_counts\n",
        "# if unique count ==1 , constant column \n",
        "for col in main_train.columns:\n",
        "    if main_train[col].nunique()<= 12:\n",
        "        print(main_train[col].value_counts())\n",
        "        print('#########################')"
      ],
      "execution_count": null,
      "outputs": [
        {
          "output_type": "stream",
          "text": [
            "U001          36157\n",
            "CA02           3179\n",
            "U013            507\n",
            "U002            143\n",
            "Other Code       14\n",
            "Name: business_code, dtype: int64\n",
            "#########################\n",
            "2019.0    34784\n",
            "2020.0     5216\n",
            "Name: buisness_year, dtype: int64\n",
            "#########################\n",
            "USD    36821\n",
            "CAD     3179\n",
            "Name: invoice_currency, dtype: int64\n",
            "#########################\n"
          ],
          "name": "stdout"
        }
      ]
    },
    {
      "cell_type": "markdown",
      "metadata": {
        "id": "_b8uTgTkiKaP"
      },
      "source": [
        "##SPLIT VALUE"
      ]
    },
    {
      "cell_type": "code",
      "metadata": {
        "id": "Qp2EY78zG_PC"
      },
      "source": [
        "# X --> contains the dataframe without the target i.e price\n",
        "X = main_train.drop('delay',axis=1)\n",
        "\n",
        "# y --> contains only the target value \n",
        "y = main_train['delay']"
      ],
      "execution_count": null,
      "outputs": []
    },
    {
      "cell_type": "code",
      "metadata": {
        "id": "VJdwgw2wHH72"
      },
      "source": [
        "X_train,X_inter_test,y_train,y_inter_test = train_test_split(X,y,test_size=0.3,random_state=0 , shuffle = False)"
      ],
      "execution_count": null,
      "outputs": []
    },
    {
      "cell_type": "code",
      "metadata": {
        "id": "pyHq0EaVHNC3"
      },
      "source": [
        "X_val,X_test,y_val,y_test = train_test_split(X_inter_test,y_inter_test,test_size=0.5,random_state=0 , shuffle = False)"
      ],
      "execution_count": null,
      "outputs": []
    },
    {
      "cell_type": "code",
      "metadata": {
        "colab": {
          "base_uri": "https://localhost:8080/"
        },
        "id": "Zdjyh_b-6xiy",
        "outputId": "4b8427ec-23c9-4ae8-ae63-3a3aa8fbf838"
      },
      "source": [
        "X_val.isnull().sum()"
      ],
      "execution_count": null,
      "outputs": [
        {
          "output_type": "execute_result",
          "data": {
            "text/plain": [
              "business_code           0\n",
              "cust_number             0\n",
              "name_customer           0\n",
              "buisness_year           0\n",
              "posting_date            0\n",
              "due_in_date             0\n",
              "invoice_currency        0\n",
              "total_open_amount       0\n",
              "baseline_create_date    0\n",
              "cust_payment_terms      0\n",
              "dtype: int64"
            ]
          },
          "metadata": {
            "tags": []
          },
          "execution_count": 169
        }
      ]
    },
    {
      "cell_type": "code",
      "metadata": {
        "id": "4d8LM3pm6xol"
      },
      "source": [
        ""
      ],
      "execution_count": null,
      "outputs": []
    },
    {
      "cell_type": "code",
      "metadata": {
        "colab": {
          "base_uri": "https://localhost:8080/"
        },
        "id": "bnBX3T_oHO5J",
        "outputId": "f3cc32df-1819-4666-be63-0a3be0de0a77"
      },
      "source": [
        "X_train.shape , X_val.shape , X_test.shape"
      ],
      "execution_count": null,
      "outputs": [
        {
          "output_type": "execute_result",
          "data": {
            "text/plain": [
              "((28000, 10), (6000, 10), (6000, 10))"
            ]
          },
          "metadata": {
            "tags": []
          },
          "execution_count": 170
        }
      ]
    },
    {
      "cell_type": "markdown",
      "metadata": {
        "id": "DtOsTjzniQ5Q"
      },
      "source": [
        "##EDA"
      ]
    },
    {
      "cell_type": "code",
      "metadata": {
        "colab": {
          "base_uri": "https://localhost:8080/",
          "height": 297
        },
        "id": "ya287XX9HQsR",
        "outputId": "ef223aa1-da65-4aa2-e0bd-05ff7c20774d"
      },
      "source": [
        "sns.distplot(y_train)"
      ],
      "execution_count": null,
      "outputs": [
        {
          "output_type": "execute_result",
          "data": {
            "text/plain": [
              "<matplotlib.axes._subplots.AxesSubplot at 0x7fe7bc2e4450>"
            ]
          },
          "metadata": {
            "tags": []
          },
          "execution_count": 171
        },
        {
          "output_type": "display_data",
          "data": {
            "image/png": "[encoded data removed]",
            "text/plain": [
              "<Figure size 432x288 with 1 Axes>"
            ]
          },
          "metadata": {
            "tags": [],
            "needs_background": "light"
          }
        }
      ]
    },
    {
      "cell_type": "code",
      "metadata": {
        "colab": {
          "base_uri": "https://localhost:8080/",
          "height": 297
        },
        "id": "V2Ble_ubHR43",
        "outputId": "b2148c94-c685-4801-9d11-a534e1a798f2"
      },
      "source": [
        "sns.scatterplot(data=X_train.merge(y_train,on = X_train.index), x=\"delay\", y=\"cust_number\")"
      ],
      "execution_count": null,
      "outputs": [
        {
          "output_type": "execute_result",
          "data": {
            "text/plain": [
              "<matplotlib.axes._subplots.AxesSubplot at 0x7fe7bc216850>"
            ]
          },
          "metadata": {
            "tags": []
          },
          "execution_count": 172
        },
        {
          "output_type": "display_data",
          "data": {
            "image/png": "[encoded data removed]",
            "text/plain": [
              "<Figure size 432x288 with 1 Axes>"
            ]
          },
          "metadata": {
            "tags": [],
            "needs_background": "light"
          }
        }
      ]
    },
    {
      "cell_type": "code",
      "metadata": {
        "colab": {
          "base_uri": "https://localhost:8080/",
          "height": 297
        },
        "id": "BFb8P_erHWEz",
        "outputId": "220da913-e1dd-4322-ce7b-02096f0e9c3e"
      },
      "source": [
        "sns.scatterplot(data=X_train.merge(y_train,on = X_train.index), x=\"delay\", y=\"posting_date\") "
      ],
      "execution_count": null,
      "outputs": [
        {
          "output_type": "execute_result",
          "data": {
            "text/plain": [
              "<matplotlib.axes._subplots.AxesSubplot at 0x7fe7bb838ad0>"
            ]
          },
          "metadata": {
            "tags": []
          },
          "execution_count": 173
        },
        {
          "output_type": "display_data",
          "data": {
            "image/png": "[encoded data removed]",
            "text/plain": [
              "<Figure size 432x288 with 1 Axes>"
            ]
          },
          "metadata": {
            "tags": [],
            "needs_background": "light"
          }
        }
      ]
    },
    {
      "cell_type": "code",
      "metadata": {
        "colab": {
          "base_uri": "https://localhost:8080/",
          "height": 297
        },
        "id": "NS2o8TOtHaBp",
        "outputId": "8d240fdb-b8da-4ee4-d612-bc1d8705ffe1"
      },
      "source": [
        "sns.scatterplot(data=X_train.merge(y_train,on = X_train.index), x=\"delay\", y=\"due_in_date\") "
      ],
      "execution_count": null,
      "outputs": [
        {
          "output_type": "execute_result",
          "data": {
            "text/plain": [
              "<matplotlib.axes._subplots.AxesSubplot at 0x7fe7bb627d90>"
            ]
          },
          "metadata": {
            "tags": []
          },
          "execution_count": 174
        },
        {
          "output_type": "display_data",
          "data": {
            "image/png": "[encoded data removed]",
            "text/plain": [
              "<Figure size 432x288 with 1 Axes>"
            ]
          },
          "metadata": {
            "tags": [],
            "needs_background": "light"
          }
        }
      ]
    },
    {
      "cell_type": "code",
      "metadata": {
        "colab": {
          "base_uri": "https://localhost:8080/"
        },
        "id": "HtOdVapuHfSp",
        "outputId": "f6d1bf38-057b-412c-9e28-8db2b38c8e9b"
      },
      "source": [
        "X_train.info()"
      ],
      "execution_count": null,
      "outputs": [
        {
          "output_type": "stream",
          "text": [
            "<class 'pandas.core.frame.DataFrame'>\n",
            "Int64Index: 28000 entries, 0 to 34958\n",
            "Data columns (total 10 columns):\n",
            " #   Column                Non-Null Count  Dtype         \n",
            "---  ------                --------------  -----         \n",
            " 0   business_code         28000 non-null  object        \n",
            " 1   cust_number           28000 non-null  object        \n",
            " 2   name_customer         28000 non-null  object        \n",
            " 3   buisness_year         28000 non-null  float64       \n",
            " 4   posting_date          28000 non-null  datetime64[ns]\n",
            " 5   due_in_date           28000 non-null  datetime64[ns]\n",
            " 6   invoice_currency      28000 non-null  object        \n",
            " 7   total_open_amount     28000 non-null  float64       \n",
            " 8   baseline_create_date  28000 non-null  float64       \n",
            " 9   cust_payment_terms    28000 non-null  object        \n",
            "dtypes: datetime64[ns](2), float64(3), object(5)\n",
            "memory usage: 2.3+ MB\n"
          ],
          "name": "stdout"
        }
      ]
    },
    {
      "cell_type": "code",
      "metadata": {
        "id": "Zr01nUkdHi42"
      },
      "source": [
        "from sklearn.preprocessing import LabelEncoder\n",
        "business_code_encoder = LabelEncoder()\n",
        "business_code_encoder.fit(X_train['business_code'])\n",
        "X_train['business_code_enc'] = business_code_encoder.transform(X_train['business_code'])"
      ],
      "execution_count": null,
      "outputs": []
    },
    {
      "cell_type": "code",
      "metadata": {
        "colab": {
          "base_uri": "https://localhost:8080/",
          "height": 418
        },
        "id": "kVwMQOq9Hm9X",
        "outputId": "fe6e35bc-fab3-4ae0-a8df-38b7f38069d7"
      },
      "source": [
        "X_train[['business_code_enc','business_code']]"
      ],
      "execution_count": null,
      "outputs": [
        {
          "output_type": "execute_result",
          "data": {
            "text/html": [
              "<div>\n",
              "<style scoped>\n",
              "    .dataframe tbody tr th:only-of-type {\n",
              "        vertical-align: middle;\n",
              "    }\n",
              "\n",
              "    .dataframe tbody tr th {\n",
              "        vertical-align: top;\n",
              "    }\n",
              "\n",
              "    .dataframe thead th {\n",
              "        text-align: right;\n",
              "    }\n",
              "</style>\n",
              "<table border=\"1\" class=\"dataframe\">\n",
              "  <thead>\n",
              "    <tr style=\"text-align: right;\">\n",
              "      <th></th>\n",
              "      <th>business_code_enc</th>\n",
              "      <th>business_code</th>\n",
              "    </tr>\n",
              "  </thead>\n",
              "  <tbody>\n",
              "    <tr>\n",
              "      <th>0</th>\n",
              "      <td>2</td>\n",
              "      <td>U001</td>\n",
              "    </tr>\n",
              "    <tr>\n",
              "      <th>1</th>\n",
              "      <td>0</td>\n",
              "      <td>CA02</td>\n",
              "    </tr>\n",
              "    <tr>\n",
              "      <th>2</th>\n",
              "      <td>2</td>\n",
              "      <td>U001</td>\n",
              "    </tr>\n",
              "    <tr>\n",
              "      <th>3</th>\n",
              "      <td>2</td>\n",
              "      <td>U001</td>\n",
              "    </tr>\n",
              "    <tr>\n",
              "      <th>4</th>\n",
              "      <td>2</td>\n",
              "      <td>U001</td>\n",
              "    </tr>\n",
              "    <tr>\n",
              "      <th>...</th>\n",
              "      <td>...</td>\n",
              "      <td>...</td>\n",
              "    </tr>\n",
              "    <tr>\n",
              "      <th>34953</th>\n",
              "      <td>2</td>\n",
              "      <td>U001</td>\n",
              "    </tr>\n",
              "    <tr>\n",
              "      <th>34954</th>\n",
              "      <td>2</td>\n",
              "      <td>U001</td>\n",
              "    </tr>\n",
              "    <tr>\n",
              "      <th>34955</th>\n",
              "      <td>2</td>\n",
              "      <td>U001</td>\n",
              "    </tr>\n",
              "    <tr>\n",
              "      <th>34957</th>\n",
              "      <td>2</td>\n",
              "      <td>U001</td>\n",
              "    </tr>\n",
              "    <tr>\n",
              "      <th>34958</th>\n",
              "      <td>2</td>\n",
              "      <td>U001</td>\n",
              "    </tr>\n",
              "  </tbody>\n",
              "</table>\n",
              "<p>28000 rows × 2 columns</p>\n",
              "</div>"
            ],
            "text/plain": [
              "       business_code_enc business_code\n",
              "0                      2          U001\n",
              "1                      0          CA02\n",
              "2                      2          U001\n",
              "3                      2          U001\n",
              "4                      2          U001\n",
              "...                  ...           ...\n",
              "34953                  2          U001\n",
              "34954                  2          U001\n",
              "34955                  2          U001\n",
              "34957                  2          U001\n",
              "34958                  2          U001\n",
              "\n",
              "[28000 rows x 2 columns]"
            ]
          },
          "metadata": {
            "tags": []
          },
          "execution_count": 177
        }
      ]
    },
    {
      "cell_type": "code",
      "metadata": {
        "id": "QkofxE0sHpSn"
      },
      "source": [
        "X_val['business_code_enc'] = business_code_encoder.transform(X_val['business_code'])\n",
        "X_test['business_code_enc'] = business_code_encoder.transform(X_test['business_code'])"
      ],
      "execution_count": null,
      "outputs": []
    },
    {
      "cell_type": "code",
      "metadata": {
        "colab": {
          "base_uri": "https://localhost:8080/",
          "height": 418
        },
        "id": "sBRAu62CHr1V",
        "outputId": "9211174a-be16-46ba-c5a7-b9ae201a450b"
      },
      "source": [
        "X_val[['business_code_enc','business_code']]"
      ],
      "execution_count": null,
      "outputs": [
        {
          "output_type": "execute_result",
          "data": {
            "text/html": [
              "<div>\n",
              "<style scoped>\n",
              "    .dataframe tbody tr th:only-of-type {\n",
              "        vertical-align: middle;\n",
              "    }\n",
              "\n",
              "    .dataframe tbody tr th {\n",
              "        vertical-align: top;\n",
              "    }\n",
              "\n",
              "    .dataframe thead th {\n",
              "        text-align: right;\n",
              "    }\n",
              "</style>\n",
              "<table border=\"1\" class=\"dataframe\">\n",
              "  <thead>\n",
              "    <tr style=\"text-align: right;\">\n",
              "      <th></th>\n",
              "      <th>business_code_enc</th>\n",
              "      <th>business_code</th>\n",
              "    </tr>\n",
              "  </thead>\n",
              "  <tbody>\n",
              "    <tr>\n",
              "      <th>34959</th>\n",
              "      <td>2</td>\n",
              "      <td>U001</td>\n",
              "    </tr>\n",
              "    <tr>\n",
              "      <th>34960</th>\n",
              "      <td>2</td>\n",
              "      <td>U001</td>\n",
              "    </tr>\n",
              "    <tr>\n",
              "      <th>34961</th>\n",
              "      <td>2</td>\n",
              "      <td>U001</td>\n",
              "    </tr>\n",
              "    <tr>\n",
              "      <th>34962</th>\n",
              "      <td>0</td>\n",
              "      <td>CA02</td>\n",
              "    </tr>\n",
              "    <tr>\n",
              "      <th>34964</th>\n",
              "      <td>2</td>\n",
              "      <td>U001</td>\n",
              "    </tr>\n",
              "    <tr>\n",
              "      <th>...</th>\n",
              "      <td>...</td>\n",
              "      <td>...</td>\n",
              "    </tr>\n",
              "    <tr>\n",
              "      <th>42458</th>\n",
              "      <td>2</td>\n",
              "      <td>U001</td>\n",
              "    </tr>\n",
              "    <tr>\n",
              "      <th>42460</th>\n",
              "      <td>2</td>\n",
              "      <td>U001</td>\n",
              "    </tr>\n",
              "    <tr>\n",
              "      <th>42462</th>\n",
              "      <td>2</td>\n",
              "      <td>U001</td>\n",
              "    </tr>\n",
              "    <tr>\n",
              "      <th>42463</th>\n",
              "      <td>2</td>\n",
              "      <td>U001</td>\n",
              "    </tr>\n",
              "    <tr>\n",
              "      <th>42464</th>\n",
              "      <td>2</td>\n",
              "      <td>U001</td>\n",
              "    </tr>\n",
              "  </tbody>\n",
              "</table>\n",
              "<p>6000 rows × 2 columns</p>\n",
              "</div>"
            ],
            "text/plain": [
              "       business_code_enc business_code\n",
              "34959                  2          U001\n",
              "34960                  2          U001\n",
              "34961                  2          U001\n",
              "34962                  0          CA02\n",
              "34964                  2          U001\n",
              "...                  ...           ...\n",
              "42458                  2          U001\n",
              "42460                  2          U001\n",
              "42462                  2          U001\n",
              "42463                  2          U001\n",
              "42464                  2          U001\n",
              "\n",
              "[6000 rows x 2 columns]"
            ]
          },
          "metadata": {
            "tags": []
          },
          "execution_count": 179
        }
      ]
    },
    {
      "cell_type": "code",
      "metadata": {
        "id": "kwRVXv70Hxbx"
      },
      "source": [
        "def thanos_snap(col ,traindf = X_train,valdf = X_val,testdf = X_test):\n",
        "    traindf.drop(col, axis =1,inplace=True)\n",
        "    valdf.drop(col,axis=1 , inplace=True)\n",
        "    testdf.drop(col,axis=1 , inplace=True)\n",
        "\n",
        "    return traindf,valdf ,testdf"
      ],
      "execution_count": null,
      "outputs": []
    },
    {
      "cell_type": "code",
      "metadata": {
        "id": "wQOvyYZvH1F4"
      },
      "source": [
        "X_train ,X_val, X_test = thanos_snap(['business_code'])"
      ],
      "execution_count": null,
      "outputs": []
    },
    {
      "cell_type": "code",
      "metadata": {
        "colab": {
          "base_uri": "https://localhost:8080/"
        },
        "id": "j4MDpkXiH3Ur",
        "outputId": "021d2f2b-8167-4543-b2f9-dc657cbca7c1"
      },
      "source": [
        "X_train.info()"
      ],
      "execution_count": null,
      "outputs": [
        {
          "output_type": "stream",
          "text": [
            "<class 'pandas.core.frame.DataFrame'>\n",
            "Int64Index: 28000 entries, 0 to 34958\n",
            "Data columns (total 10 columns):\n",
            " #   Column                Non-Null Count  Dtype         \n",
            "---  ------                --------------  -----         \n",
            " 0   cust_number           28000 non-null  object        \n",
            " 1   name_customer         28000 non-null  object        \n",
            " 2   buisness_year         28000 non-null  float64       \n",
            " 3   posting_date          28000 non-null  datetime64[ns]\n",
            " 4   due_in_date           28000 non-null  datetime64[ns]\n",
            " 5   invoice_currency      28000 non-null  object        \n",
            " 6   total_open_amount     28000 non-null  float64       \n",
            " 7   baseline_create_date  28000 non-null  float64       \n",
            " 8   cust_payment_terms    28000 non-null  object        \n",
            " 9   business_code_enc     28000 non-null  int64         \n",
            "dtypes: datetime64[ns](2), float64(3), int64(1), object(4)\n",
            "memory usage: 2.3+ MB\n"
          ],
          "name": "stdout"
        }
      ]
    },
    {
      "cell_type": "code",
      "metadata": {
        "colab": {
          "base_uri": "https://localhost:8080/"
        },
        "id": "wGUMW7QmH5jU",
        "outputId": "44b0fd9a-d5ed-4d73-9a8f-e4dd79a1d54d"
      },
      "source": [
        "X_train.nunique()"
      ],
      "execution_count": null,
      "outputs": [
        {
          "output_type": "execute_result",
          "data": {
            "text/plain": [
              "cust_number              1190\n",
              "name_customer            3346\n",
              "buisness_year               2\n",
              "posting_date              423\n",
              "due_in_date               491\n",
              "invoice_currency            2\n",
              "total_open_amount       25386\n",
              "baseline_create_date      426\n",
              "cust_payment_terms         67\n",
              "business_code_enc           5\n",
              "dtype: int64"
            ]
          },
          "metadata": {
            "tags": []
          },
          "execution_count": 183
        }
      ]
    },
    {
      "cell_type": "code",
      "metadata": {
        "colab": {
          "base_uri": "https://localhost:8080/",
          "height": 418
        },
        "id": "Az7OtjKIH7YK",
        "outputId": "f5776334-1fec-440f-a0dc-443cbb3d8247"
      },
      "source": [
        "X_train"
      ],
      "execution_count": null,
      "outputs": [
        {
          "output_type": "execute_result",
          "data": {
            "text/html": [
              "<div>\n",
              "<style scoped>\n",
              "    .dataframe tbody tr th:only-of-type {\n",
              "        vertical-align: middle;\n",
              "    }\n",
              "\n",
              "    .dataframe tbody tr th {\n",
              "        vertical-align: top;\n",
              "    }\n",
              "\n",
              "    .dataframe thead th {\n",
              "        text-align: right;\n",
              "    }\n",
              "</style>\n",
              "<table border=\"1\" class=\"dataframe\">\n",
              "  <thead>\n",
              "    <tr style=\"text-align: right;\">\n",
              "      <th></th>\n",
              "      <th>cust_number</th>\n",
              "      <th>name_customer</th>\n",
              "      <th>buisness_year</th>\n",
              "      <th>posting_date</th>\n",
              "      <th>due_in_date</th>\n",
              "      <th>invoice_currency</th>\n",
              "      <th>total_open_amount</th>\n",
              "      <th>baseline_create_date</th>\n",
              "      <th>cust_payment_terms</th>\n",
              "      <th>business_code_enc</th>\n",
              "    </tr>\n",
              "  </thead>\n",
              "  <tbody>\n",
              "    <tr>\n",
              "      <th>0</th>\n",
              "      <td>0200769623</td>\n",
              "      <td>WAL-MAR foundation</td>\n",
              "      <td>2019.0</td>\n",
              "      <td>2019-11-13</td>\n",
              "      <td>2019-11-28</td>\n",
              "      <td>USD</td>\n",
              "      <td>33133.29</td>\n",
              "      <td>20191113.0</td>\n",
              "      <td>NAH4</td>\n",
              "      <td>2</td>\n",
              "    </tr>\n",
              "    <tr>\n",
              "      <th>1</th>\n",
              "      <td>0140104440</td>\n",
              "      <td>SO systems</td>\n",
              "      <td>2019.0</td>\n",
              "      <td>2019-05-16</td>\n",
              "      <td>2019-05-27</td>\n",
              "      <td>CAD</td>\n",
              "      <td>105416.43</td>\n",
              "      <td>20190517.0</td>\n",
              "      <td>CA10</td>\n",
              "      <td>0</td>\n",
              "    </tr>\n",
              "    <tr>\n",
              "      <th>2</th>\n",
              "      <td>CCU013</td>\n",
              "      <td>KRAFT F corporation</td>\n",
              "      <td>2019.0</td>\n",
              "      <td>2019-01-18</td>\n",
              "      <td>2019-01-18</td>\n",
              "      <td>USD</td>\n",
              "      <td>3992.64</td>\n",
              "      <td>20190118.0</td>\n",
              "      <td>NAX2</td>\n",
              "      <td>2</td>\n",
              "    </tr>\n",
              "    <tr>\n",
              "      <th>3</th>\n",
              "      <td>0200793568</td>\n",
              "      <td>SUPE llc</td>\n",
              "      <td>2019.0</td>\n",
              "      <td>2019-09-02</td>\n",
              "      <td>2019-09-17</td>\n",
              "      <td>USD</td>\n",
              "      <td>87820.44</td>\n",
              "      <td>20190902.0</td>\n",
              "      <td>NAA8</td>\n",
              "      <td>2</td>\n",
              "    </tr>\n",
              "    <tr>\n",
              "      <th>4</th>\n",
              "      <td>0200794332</td>\n",
              "      <td>COST foundation</td>\n",
              "      <td>2019.0</td>\n",
              "      <td>2019-09-06</td>\n",
              "      <td>2019-09-21</td>\n",
              "      <td>USD</td>\n",
              "      <td>5685.93</td>\n",
              "      <td>20190906.0</td>\n",
              "      <td>NAAX</td>\n",
              "      <td>2</td>\n",
              "    </tr>\n",
              "    <tr>\n",
              "      <th>...</th>\n",
              "      <td>...</td>\n",
              "      <td>...</td>\n",
              "      <td>...</td>\n",
              "      <td>...</td>\n",
              "      <td>...</td>\n",
              "      <td>...</td>\n",
              "      <td>...</td>\n",
              "      <td>...</td>\n",
              "      <td>...</td>\n",
              "      <td>...</td>\n",
              "    </tr>\n",
              "    <tr>\n",
              "      <th>34953</th>\n",
              "      <td>0200875006</td>\n",
              "      <td>KROGER llc</td>\n",
              "      <td>2019.0</td>\n",
              "      <td>2019-02-23</td>\n",
              "      <td>2019-03-10</td>\n",
              "      <td>USD</td>\n",
              "      <td>101230.38</td>\n",
              "      <td>20190223.0</td>\n",
              "      <td>NAA8</td>\n",
              "      <td>2</td>\n",
              "    </tr>\n",
              "    <tr>\n",
              "      <th>34954</th>\n",
              "      <td>0200744019</td>\n",
              "      <td>TARG associates</td>\n",
              "      <td>2020.0</td>\n",
              "      <td>2020-01-25</td>\n",
              "      <td>2020-02-09</td>\n",
              "      <td>USD</td>\n",
              "      <td>11266.82</td>\n",
              "      <td>20200125.0</td>\n",
              "      <td>NAA8</td>\n",
              "      <td>2</td>\n",
              "    </tr>\n",
              "    <tr>\n",
              "      <th>34955</th>\n",
              "      <td>0200739006</td>\n",
              "      <td>AL co</td>\n",
              "      <td>2019.0</td>\n",
              "      <td>2019-10-15</td>\n",
              "      <td>2019-10-30</td>\n",
              "      <td>USD</td>\n",
              "      <td>10628.12</td>\n",
              "      <td>20191015.0</td>\n",
              "      <td>NAA8</td>\n",
              "      <td>2</td>\n",
              "    </tr>\n",
              "    <tr>\n",
              "      <th>34957</th>\n",
              "      <td>0200705742</td>\n",
              "      <td>DOT co</td>\n",
              "      <td>2019.0</td>\n",
              "      <td>2019-08-26</td>\n",
              "      <td>2019-09-10</td>\n",
              "      <td>USD</td>\n",
              "      <td>2834.64</td>\n",
              "      <td>20190826.0</td>\n",
              "      <td>NAA8</td>\n",
              "      <td>2</td>\n",
              "    </tr>\n",
              "    <tr>\n",
              "      <th>34958</th>\n",
              "      <td>0200769623</td>\n",
              "      <td>WAL-MAR us</td>\n",
              "      <td>2020.0</td>\n",
              "      <td>2020-01-18</td>\n",
              "      <td>2020-02-02</td>\n",
              "      <td>USD</td>\n",
              "      <td>60521.93</td>\n",
              "      <td>20200118.0</td>\n",
              "      <td>NAH4</td>\n",
              "      <td>2</td>\n",
              "    </tr>\n",
              "  </tbody>\n",
              "</table>\n",
              "<p>28000 rows × 10 columns</p>\n",
              "</div>"
            ],
            "text/plain": [
              "      cust_number        name_customer  ...  cust_payment_terms business_code_enc\n",
              "0      0200769623   WAL-MAR foundation  ...                NAH4                 2\n",
              "1      0140104440           SO systems  ...                CA10                 0\n",
              "2          CCU013  KRAFT F corporation  ...                NAX2                 2\n",
              "3      0200793568             SUPE llc  ...                NAA8                 2\n",
              "4      0200794332      COST foundation  ...                NAAX                 2\n",
              "...           ...                  ...  ...                 ...               ...\n",
              "34953  0200875006           KROGER llc  ...                NAA8                 2\n",
              "34954  0200744019      TARG associates  ...                NAA8                 2\n",
              "34955  0200739006                AL co  ...                NAA8                 2\n",
              "34957  0200705742               DOT co  ...                NAA8                 2\n",
              "34958  0200769623           WAL-MAR us  ...                NAH4                 2\n",
              "\n",
              "[28000 rows x 10 columns]"
            ]
          },
          "metadata": {
            "tags": []
          },
          "execution_count": 184
        }
      ]
    },
    {
      "cell_type": "code",
      "metadata": {
        "id": "zVGwos3mH-RN"
      },
      "source": [
        "cust_number_encoder = LabelEncoder()\n",
        "cust_number_encoder.fit(X_train['cust_number'])\n",
        "X_train['cust_number_enc'] = cust_number_encoder.transform(X_train['cust_number'])"
      ],
      "execution_count": null,
      "outputs": []
    },
    {
      "cell_type": "code",
      "metadata": {
        "id": "1r-uHu_QIBzo"
      },
      "source": [
        "diff = set(X_val['cust_number'])-set(cust_number_encoder.classes_)\n",
        "\n",
        "# adding them to the classess variable // \n",
        "for items in diff:\n",
        "    cust_number_encoder.classes_ = np.append(cust_number_encoder.classes_,items)"
      ],
      "execution_count": null,
      "outputs": []
    },
    {
      "cell_type": "code",
      "metadata": {
        "id": "tx0wdgL3IDFa"
      },
      "source": [
        "X_val['cust_number_enc'] = cust_number_encoder.transform(X_val['cust_number'])"
      ],
      "execution_count": null,
      "outputs": []
    },
    {
      "cell_type": "code",
      "metadata": {
        "id": "k5ve2Iz0IEmz"
      },
      "source": [
        "diff2 = set(X_test['cust_number'])-set(cust_number_encoder.classes_)\n",
        "\n",
        "# adding them to the classess variable // \n",
        "for items in diff:\n",
        "    cust_number_encoder.classes_ = np.append(cust_number_encoder.classes_,items)"
      ],
      "execution_count": null,
      "outputs": []
    },
    {
      "cell_type": "code",
      "metadata": {
        "id": "NuksqrpKIMIp"
      },
      "source": [
        "X_test['cust_number_enc'] = cust_number_encoder.transform(X_val['cust_number'])"
      ],
      "execution_count": null,
      "outputs": []
    },
    {
      "cell_type": "code",
      "metadata": {
        "colab": {
          "base_uri": "https://localhost:8080/",
          "height": 418
        },
        "id": "TepVPCZAIRrB",
        "outputId": "b2c3d6b9-ca93-462d-b41a-aa81f05884b7"
      },
      "source": [
        "X_train[['cust_number_enc','cust_number']]"
      ],
      "execution_count": null,
      "outputs": [
        {
          "output_type": "execute_result",
          "data": {
            "text/html": [
              "<div>\n",
              "<style scoped>\n",
              "    .dataframe tbody tr th:only-of-type {\n",
              "        vertical-align: middle;\n",
              "    }\n",
              "\n",
              "    .dataframe tbody tr th {\n",
              "        vertical-align: top;\n",
              "    }\n",
              "\n",
              "    .dataframe thead th {\n",
              "        text-align: right;\n",
              "    }\n",
              "</style>\n",
              "<table border=\"1\" class=\"dataframe\">\n",
              "  <thead>\n",
              "    <tr style=\"text-align: right;\">\n",
              "      <th></th>\n",
              "      <th>cust_number_enc</th>\n",
              "      <th>cust_number</th>\n",
              "    </tr>\n",
              "  </thead>\n",
              "  <tbody>\n",
              "    <tr>\n",
              "      <th>0</th>\n",
              "      <td>753</td>\n",
              "      <td>0200769623</td>\n",
              "    </tr>\n",
              "    <tr>\n",
              "      <th>1</th>\n",
              "      <td>331</td>\n",
              "      <td>0140104440</td>\n",
              "    </tr>\n",
              "    <tr>\n",
              "      <th>2</th>\n",
              "      <td>1189</td>\n",
              "      <td>CCU013</td>\n",
              "    </tr>\n",
              "    <tr>\n",
              "      <th>3</th>\n",
              "      <td>816</td>\n",
              "      <td>0200793568</td>\n",
              "    </tr>\n",
              "    <tr>\n",
              "      <th>4</th>\n",
              "      <td>819</td>\n",
              "      <td>0200794332</td>\n",
              "    </tr>\n",
              "    <tr>\n",
              "      <th>...</th>\n",
              "      <td>...</td>\n",
              "      <td>...</td>\n",
              "    </tr>\n",
              "    <tr>\n",
              "      <th>34953</th>\n",
              "      <td>853</td>\n",
              "      <td>0200875006</td>\n",
              "    </tr>\n",
              "    <tr>\n",
              "      <th>34954</th>\n",
              "      <td>701</td>\n",
              "      <td>0200744019</td>\n",
              "    </tr>\n",
              "    <tr>\n",
              "      <th>34955</th>\n",
              "      <td>683</td>\n",
              "      <td>0200739006</td>\n",
              "    </tr>\n",
              "    <tr>\n",
              "      <th>34957</th>\n",
              "      <td>623</td>\n",
              "      <td>0200705742</td>\n",
              "    </tr>\n",
              "    <tr>\n",
              "      <th>34958</th>\n",
              "      <td>753</td>\n",
              "      <td>0200769623</td>\n",
              "    </tr>\n",
              "  </tbody>\n",
              "</table>\n",
              "<p>28000 rows × 2 columns</p>\n",
              "</div>"
            ],
            "text/plain": [
              "       cust_number_enc cust_number\n",
              "0                  753  0200769623\n",
              "1                  331  0140104440\n",
              "2                 1189      CCU013\n",
              "3                  816  0200793568\n",
              "4                  819  0200794332\n",
              "...                ...         ...\n",
              "34953              853  0200875006\n",
              "34954              701  0200744019\n",
              "34955              683  0200739006\n",
              "34957              623  0200705742\n",
              "34958              753  0200769623\n",
              "\n",
              "[28000 rows x 2 columns]"
            ]
          },
          "metadata": {
            "tags": []
          },
          "execution_count": 190
        }
      ]
    },
    {
      "cell_type": "code",
      "metadata": {
        "id": "pS9z8UHUITCH"
      },
      "source": [
        "X_train ,X_val, X_test = thanos_snap(['cust_number'])"
      ],
      "execution_count": null,
      "outputs": []
    },
    {
      "cell_type": "code",
      "metadata": {
        "id": "SkId-mhMIVt0"
      },
      "source": [
        "name_customer_encoder = LabelEncoder()\n",
        "name_customer_encoder.fit(X_train['name_customer'])\n",
        "X_train['name_customer_enc'] = name_customer_encoder.transform(X_train['name_customer'])"
      ],
      "execution_count": null,
      "outputs": []
    },
    {
      "cell_type": "code",
      "metadata": {
        "id": "VIe3RYESIaHb"
      },
      "source": [
        "diff = set(X_val['name_customer'])-set(name_customer_encoder.classes_)\n",
        "\n",
        "# adding them to the classess variable // \n",
        "for items in diff:\n",
        "    name_customer_encoder.classes_ = np.append(name_customer_encoder.classes_,items)\n",
        "X_val['name_customer_enc'] = name_customer_encoder.transform(X_val['name_customer'])"
      ],
      "execution_count": null,
      "outputs": []
    },
    {
      "cell_type": "code",
      "metadata": {
        "id": "TaZwSz-TIbIA"
      },
      "source": [
        "diff = set(X_test['name_customer'])-set(name_customer_encoder.classes_)\n",
        "\n",
        "# adding them to the classess variable // \n",
        "for items in diff:\n",
        "    name_customer_encoder.classes_ = np.append(name_customer_encoder.classes_,items)\n",
        "X_test['name_customer_enc'] = name_customer_encoder.transform(X_val['name_customer'])"
      ],
      "execution_count": null,
      "outputs": []
    },
    {
      "cell_type": "code",
      "metadata": {
        "id": "0T4u-Bm-Icck"
      },
      "source": [
        "X_train ,X_val, X_test = thanos_snap(['name_customer'])"
      ],
      "execution_count": null,
      "outputs": []
    },
    {
      "cell_type": "code",
      "metadata": {
        "id": "DTVDWOwNIeJ8"
      },
      "source": [
        "invoice_currency_encoder = LabelEncoder()\n",
        "invoice_currency_encoder.fit(X_train['invoice_currency'])\n",
        "X_train['invoice_currency_enc'] = invoice_currency_encoder.transform(X_train['invoice_currency'])\n",
        "X_val['invoice_currency_enc'] = invoice_currency_encoder.transform(X_val['invoice_currency'])\n",
        "X_test['invoice_currency_enc'] = invoice_currency_encoder.transform(X_test['invoice_currency'])"
      ],
      "execution_count": null,
      "outputs": []
    },
    {
      "cell_type": "code",
      "metadata": {
        "id": "FtKgihgQIfUw"
      },
      "source": [
        "X_train ,X_val, X_test = thanos_snap(['invoice_currency'])"
      ],
      "execution_count": null,
      "outputs": []
    },
    {
      "cell_type": "code",
      "metadata": {
        "id": "AztQtM4gIg9D"
      },
      "source": [
        "cust_payment_terms_encoder = LabelEncoder()\n",
        "\n",
        "cust_payment_terms_encoder.fit(X_train['cust_payment_terms'])\n",
        "\n",
        "X_train['cust_payment_terms_enc'] = cust_payment_terms_encoder.transform(X_train['cust_payment_terms'])"
      ],
      "execution_count": null,
      "outputs": []
    },
    {
      "cell_type": "code",
      "metadata": {
        "id": "ZrgWLNaLIij6"
      },
      "source": [
        "diff = set(X_val['cust_payment_terms'])-set(cust_payment_terms_encoder.classes_)\n",
        "\n",
        "# adding them to the classess variable // \n",
        "for items in diff:\n",
        "    cust_payment_terms_encoder.classes_ = np.append(cust_payment_terms_encoder.classes_,items)"
      ],
      "execution_count": null,
      "outputs": []
    },
    {
      "cell_type": "code",
      "metadata": {
        "id": "q0m7HlGmIkUy"
      },
      "source": [
        "X_val['cust_payment_terms_enc'] = cust_payment_terms_encoder.transform(X_val['cust_payment_terms'])"
      ],
      "execution_count": null,
      "outputs": []
    },
    {
      "cell_type": "code",
      "metadata": {
        "id": "Urt5FtfdImBd"
      },
      "source": [
        "\n",
        "diff2 = set(X_test['cust_payment_terms'])-set(cust_payment_terms_encoder.classes_)\n",
        "for items in diff2:\n",
        "    cust_payment_terms_encoder.classes_ = np.append(cust_payment_terms_encoder.classes_,items)"
      ],
      "execution_count": null,
      "outputs": []
    },
    {
      "cell_type": "code",
      "metadata": {
        "id": "6fMpLe7-JPKj"
      },
      "source": [
        "X_test['cust_payment_terms_enc'] = cust_payment_terms_encoder.transform(X_test['cust_payment_terms'])"
      ],
      "execution_count": null,
      "outputs": []
    },
    {
      "cell_type": "code",
      "metadata": {
        "id": "-zaxC3NEJQZz"
      },
      "source": [
        "X_train ,X_val, X_test = thanos_snap(['cust_payment_terms'])"
      ],
      "execution_count": null,
      "outputs": []
    },
    {
      "cell_type": "code",
      "metadata": {
        "colab": {
          "base_uri": "https://localhost:8080/"
        },
        "id": "NxlNGHoPJSSk",
        "outputId": "cb6cf081-57d4-447c-adcb-ccc4975a7851"
      },
      "source": [
        "X_train.info()"
      ],
      "execution_count": null,
      "outputs": [
        {
          "output_type": "stream",
          "text": [
            "<class 'pandas.core.frame.DataFrame'>\n",
            "Int64Index: 28000 entries, 0 to 34958\n",
            "Data columns (total 10 columns):\n",
            " #   Column                  Non-Null Count  Dtype         \n",
            "---  ------                  --------------  -----         \n",
            " 0   buisness_year           28000 non-null  float64       \n",
            " 1   posting_date            28000 non-null  datetime64[ns]\n",
            " 2   due_in_date             28000 non-null  datetime64[ns]\n",
            " 3   total_open_amount       28000 non-null  float64       \n",
            " 4   baseline_create_date    28000 non-null  float64       \n",
            " 5   business_code_enc       28000 non-null  int64         \n",
            " 6   cust_number_enc         28000 non-null  int64         \n",
            " 7   name_customer_enc       28000 non-null  int64         \n",
            " 8   invoice_currency_enc    28000 non-null  int64         \n",
            " 9   cust_payment_terms_enc  28000 non-null  int64         \n",
            "dtypes: datetime64[ns](2), float64(3), int64(5)\n",
            "memory usage: 2.3 MB\n"
          ],
          "name": "stdout"
        }
      ]
    },
    {
      "cell_type": "code",
      "metadata": {
        "id": "7z9aLrLiJTf5"
      },
      "source": [
        "X_train['month'] = X_train['posting_date'].dt.month\n",
        "X_val['month'] = X_val['posting_date'].dt.month\n",
        "X_test['month'] = X_test['posting_date'].dt.month"
      ],
      "execution_count": null,
      "outputs": []
    },
    {
      "cell_type": "code",
      "metadata": {
        "id": "-XNf8U6-JYUT"
      },
      "source": [
        "X_train['days'] = X_train['posting_date'].dt.day\n",
        "X_val['days'] = X_val['posting_date'].dt.day\n",
        "X_test['days'] = X_test['posting_date'].dt.day"
      ],
      "execution_count": null,
      "outputs": []
    },
    {
      "cell_type": "code",
      "metadata": {
        "id": "DS8hrQBhJalL"
      },
      "source": [
        "X_train ,X_val, X_test = thanos_snap(['posting_date'])"
      ],
      "execution_count": null,
      "outputs": []
    },
    {
      "cell_type": "code",
      "metadata": {
        "colab": {
          "base_uri": "https://localhost:8080/"
        },
        "id": "99Tx-hVLJbnq",
        "outputId": "f687faac-3b1d-4646-a831-e523af8654ce"
      },
      "source": [
        "X_train.nunique()"
      ],
      "execution_count": null,
      "outputs": [
        {
          "output_type": "execute_result",
          "data": {
            "text/plain": [
              "buisness_year                 2\n",
              "due_in_date                 491\n",
              "total_open_amount         25386\n",
              "baseline_create_date        426\n",
              "business_code_enc             5\n",
              "cust_number_enc            1190\n",
              "name_customer_enc          3346\n",
              "invoice_currency_enc          2\n",
              "cust_payment_terms_enc       67\n",
              "month                        12\n",
              "days                         31\n",
              "dtype: int64"
            ]
          },
          "metadata": {
            "tags": []
          },
          "execution_count": 208
        }
      ]
    },
    {
      "cell_type": "code",
      "metadata": {
        "id": "zv80CdjpJct5"
      },
      "source": [
        "buisness_year_encoder = LabelEncoder()\n",
        "buisness_year_encoder.fit(X_train['buisness_year'])\n",
        "X_train['buisness_year_enc'] = buisness_year_encoder.transform(X_train['buisness_year'])\n",
        "X_val['buisness_year_enc'] = buisness_year_encoder.transform(X_val['buisness_year'])\n",
        "X_test['buisness_year_enc'] = buisness_year_encoder.transform(X_test['buisness_year'])"
      ],
      "execution_count": null,
      "outputs": []
    },
    {
      "cell_type": "code",
      "metadata": {
        "id": "JQmiqOHyJeS0"
      },
      "source": [
        "X_train ,X_val, X_test = thanos_snap(['buisness_year'])"
      ],
      "execution_count": null,
      "outputs": []
    },
    {
      "cell_type": "code",
      "metadata": {
        "id": "5VaCf1LpJjWM"
      },
      "source": [
        "X_train['month_due'] = X_train['due_in_date'].dt.month\n",
        "X_val['month_due'] = X_val['due_in_date'].dt.month\n",
        "X_test['month_due'] = X_test['due_in_date'].dt.month"
      ],
      "execution_count": null,
      "outputs": []
    },
    {
      "cell_type": "code",
      "metadata": {
        "id": "uBXsKfHKKgVI"
      },
      "source": [
        "X_train['days_due'] = X_train['due_in_date'].dt.day\n",
        "X_val['days_due'] = X_val['due_in_date'].dt.day\n",
        "X_test['days_due'] = X_test['due_in_date'].dt.day"
      ],
      "execution_count": null,
      "outputs": []
    },
    {
      "cell_type": "code",
      "metadata": {
        "id": "goYiHcDdKwGj"
      },
      "source": [
        "X_train ,X_val, X_test = thanos_snap(['due_in_date'])"
      ],
      "execution_count": null,
      "outputs": []
    },
    {
      "cell_type": "code",
      "metadata": {
        "id": "vCnBNjzWKyw6"
      },
      "source": [
        "baseline_create_date_encoder = LabelEncoder()\n",
        "baseline_create_date_encoder.fit(X_train['baseline_create_date'])\n",
        "X_train['baseline_create_date_enc'] = baseline_create_date_encoder.transform(X_train['baseline_create_date'])"
      ],
      "execution_count": null,
      "outputs": []
    },
    {
      "cell_type": "code",
      "metadata": {
        "id": "N3nJdqWkKz6k"
      },
      "source": [
        "diff = set(X_val['baseline_create_date'])-set(baseline_create_date_encoder.classes_)\n",
        "\n",
        "# adding them to the classess variable // \n",
        "for items in diff:\n",
        "    baseline_create_date_encoder.classes_ = np.append(baseline_create_date_encoder.classes_,items)"
      ],
      "execution_count": null,
      "outputs": []
    },
    {
      "cell_type": "code",
      "metadata": {
        "id": "jejxofQ-K1Jg"
      },
      "source": [
        "X_val['baseline_create_date_enc'] = baseline_create_date_encoder.transform(X_val['baseline_create_date'])"
      ],
      "execution_count": null,
      "outputs": []
    },
    {
      "cell_type": "code",
      "metadata": {
        "id": "6Q8h8-sTK2RT"
      },
      "source": [
        "diff2 = set(X_test['baseline_create_date'])-set(baseline_create_date_encoder.classes_)\n",
        "for items in diff2:\n",
        "    baseline_create_date_encoder.classes_ = np.append(baseline_create_date_encoder.classes_,items)"
      ],
      "execution_count": null,
      "outputs": []
    },
    {
      "cell_type": "code",
      "metadata": {
        "id": "iCNRah57K3LW"
      },
      "source": [
        "X_test['baseline_create_date_enc'] = baseline_create_date_encoder.transform(X_test['baseline_create_date'])"
      ],
      "execution_count": null,
      "outputs": []
    },
    {
      "cell_type": "code",
      "metadata": {
        "id": "wEwfCuu5K4gq"
      },
      "source": [
        "X_train ,X_val, X_test = thanos_snap(['baseline_create_date'])"
      ],
      "execution_count": null,
      "outputs": []
    },
    {
      "cell_type": "code",
      "metadata": {
        "colab": {
          "base_uri": "https://localhost:8080/"
        },
        "id": "_-D2KBVCK6Ia",
        "outputId": "b1fb7a47-4f8d-48f6-8be9-251b852d6429"
      },
      "source": [
        "X_train.isnull().sum()"
      ],
      "execution_count": null,
      "outputs": [
        {
          "output_type": "execute_result",
          "data": {
            "text/plain": [
              "total_open_amount           0\n",
              "business_code_enc           0\n",
              "cust_number_enc             0\n",
              "name_customer_enc           0\n",
              "invoice_currency_enc        0\n",
              "cust_payment_terms_enc      0\n",
              "month                       0\n",
              "days                        0\n",
              "buisness_year_enc           0\n",
              "month_due                   0\n",
              "days_due                    0\n",
              "baseline_create_date_enc    0\n",
              "dtype: int64"
            ]
          },
          "metadata": {
            "tags": []
          },
          "execution_count": 220
        }
      ]
    },
    {
      "cell_type": "code",
      "metadata": {
        "colab": {
          "base_uri": "https://localhost:8080/"
        },
        "id": "AKGYmC81K7O6",
        "outputId": "89362385-8c8a-406f-ead6-0d7e919f0ed7"
      },
      "source": [
        "X_train.info()"
      ],
      "execution_count": null,
      "outputs": [
        {
          "output_type": "stream",
          "text": [
            "<class 'pandas.core.frame.DataFrame'>\n",
            "Int64Index: 28000 entries, 0 to 34958\n",
            "Data columns (total 12 columns):\n",
            " #   Column                    Non-Null Count  Dtype  \n",
            "---  ------                    --------------  -----  \n",
            " 0   total_open_amount         28000 non-null  float64\n",
            " 1   business_code_enc         28000 non-null  int64  \n",
            " 2   cust_number_enc           28000 non-null  int64  \n",
            " 3   name_customer_enc         28000 non-null  int64  \n",
            " 4   invoice_currency_enc      28000 non-null  int64  \n",
            " 5   cust_payment_terms_enc    28000 non-null  int64  \n",
            " 6   month                     28000 non-null  int64  \n",
            " 7   days                      28000 non-null  int64  \n",
            " 8   buisness_year_enc         28000 non-null  int64  \n",
            " 9   month_due                 28000 non-null  int64  \n",
            " 10  days_due                  28000 non-null  int64  \n",
            " 11  baseline_create_date_enc  28000 non-null  int64  \n",
            "dtypes: float64(1), int64(11)\n",
            "memory usage: 2.8 MB\n"
          ],
          "name": "stdout"
        }
      ]
    },
    {
      "cell_type": "code",
      "metadata": {
        "colab": {
          "base_uri": "https://localhost:8080/"
        },
        "id": "AlhX3TwQK88u",
        "outputId": "bbbe021b-dfee-4618-d448-f40099ef458a"
      },
      "source": [
        "X_train.nunique()"
      ],
      "execution_count": null,
      "outputs": [
        {
          "output_type": "execute_result",
          "data": {
            "text/plain": [
              "total_open_amount           25386\n",
              "business_code_enc               5\n",
              "cust_number_enc              1190\n",
              "name_customer_enc            3346\n",
              "invoice_currency_enc            2\n",
              "cust_payment_terms_enc         67\n",
              "month                          12\n",
              "days                           31\n",
              "buisness_year_enc               2\n",
              "month_due                      12\n",
              "days_due                       31\n",
              "baseline_create_date_enc      426\n",
              "dtype: int64"
            ]
          },
          "metadata": {
            "tags": []
          },
          "execution_count": 222
        }
      ]
    },
    {
      "cell_type": "code",
      "metadata": {
        "id": "iojkCGNVLSMz"
      },
      "source": [
        "total_open_amount_encoder = LabelEncoder()\n",
        "total_open_amount_encoder.fit(X_train['total_open_amount'])\n",
        "X_train['total_open_amount_enc'] = total_open_amount_encoder.transform(X_train['total_open_amount'])"
      ],
      "execution_count": null,
      "outputs": []
    },
    {
      "cell_type": "code",
      "metadata": {
        "id": "U-FPcaSFL0hy"
      },
      "source": [
        "diff = set(X_val['total_open_amount'])-set(total_open_amount_encoder.classes_)\n",
        "\n",
        "# adding them to the classess variable // \n",
        "for items in diff:\n",
        "    total_open_amount_encoder.classes_ = np.append(total_open_amount_encoder.classes_,items)"
      ],
      "execution_count": null,
      "outputs": []
    },
    {
      "cell_type": "code",
      "metadata": {
        "id": "HBj4XqyqNyDc"
      },
      "source": [
        "X_val['total_open_amount_enc'] = total_open_amount_encoder.transform(X_val['total_open_amount'])"
      ],
      "execution_count": null,
      "outputs": []
    },
    {
      "cell_type": "code",
      "metadata": {
        "id": "6zViEJ5RN2zJ"
      },
      "source": [
        "diff2 = set(X_test['total_open_amount'])-set(total_open_amount_encoder.classes_)\n",
        "\n",
        "# adding them to the classess variable // \n",
        "for items in diff:\n",
        "    total_open_amount_encoder.classes_ = np.append(total_open_amount_encoder.classes_,items)"
      ],
      "execution_count": null,
      "outputs": []
    },
    {
      "cell_type": "code",
      "metadata": {
        "id": "6VQ3IoDOOA2o"
      },
      "source": [
        "X_test['total_open_amount_enc'] = total_open_amount_encoder.transform(X_val['total_open_amount'])"
      ],
      "execution_count": null,
      "outputs": []
    },
    {
      "cell_type": "code",
      "metadata": {
        "id": "NJy1RsgZIj6E"
      },
      "source": [
        "X_train ,X_val, X_test = thanos_snap(['total_open_amount'])"
      ],
      "execution_count": null,
      "outputs": []
    },
    {
      "cell_type": "markdown",
      "metadata": {
        "id": "v4YgXRkLOF58"
      },
      "source": [
        "##Feature Selection"
      ]
    },
    {
      "cell_type": "code",
      "metadata": {
        "colab": {
          "base_uri": "https://localhost:8080/"
        },
        "id": "FTvxr4-FOMG2",
        "outputId": "ec6c00e7-b112-49af-ac63-f56aec1b6932"
      },
      "source": [
        "colormap = plt.cm.RdBu\n",
        "plt.figure(figsize=(14,12))\n",
        "plt.title('Correlation of Features', y=1.05, size=15)\n",
        "sns.heatmap(X_train.merge(y_train, on = X_train.index ).corr(),linewidths=0.1,vmax=1.0, \n",
        "            square=True, cmap=colormap, linecolor='white', annot=True)"
      ],
      "execution_count": null,
      "outputs": [
        {
          "output_type": "execute_result",
          "data": {
            "text/plain": [
              "<matplotlib.axes._subplots.AxesSubplot at 0x7fe7bb5bee10>"
            ]
          },
          "metadata": {
            "tags": []
          },
          "execution_count": 229
        },
        {
          "output_type": "display_data",
          "data": {
            "image/png": "[encoded data removed]",
            "text/plain": [
              "<Figure size 1008x864 with 2 Axes>"
            ]
          },
          "metadata": {
            "tags": [],
            "needs_background": "light"
          }
        }
      ]
    },
    {
      "cell_type": "code",
      "metadata": {
        "colab": {
          "base_uri": "https://localhost:8080/",
          "height": 674
        },
        "id": "kKxGtdjvOPG2",
        "outputId": "ef8793bb-9ff2-432b-a199-4a1184d7e5df"
      },
      "source": [
        "corrmat = X_train.merge(y_train , on = X_train.index).corr()\n",
        "plt.subplots(figsize=(12,9))\n",
        "sns.heatmap(corrmat, vmax=0.9, square=True)"
      ],
      "execution_count": null,
      "outputs": [
        {
          "output_type": "execute_result",
          "data": {
            "text/plain": [
              "<matplotlib.axes._subplots.AxesSubplot at 0x7fe7bb55d250>"
            ]
          },
          "metadata": {
            "tags": []
          },
          "execution_count": 230
        },
        {
          "output_type": "display_data",
          "data": {
            "image/png": "[encoded data removed]",
            "text/plain": [
              "<Figure size 864x648 with 2 Axes>"
            ]
          },
          "metadata": {
            "tags": [],
            "needs_background": "light"
          }
        }
      ]
    },
    {
      "cell_type": "code",
      "metadata": {
        "colab": {
          "base_uri": "https://localhost:8080/"
        },
        "id": "xy88fM4KOUKY",
        "outputId": "58d156a5-5751-420f-fabf-b96e89218956"
      },
      "source": [
        "from sklearn.feature_selection import VarianceThreshold\n",
        "sel = VarianceThreshold(0.8)\n",
        "sel.fit(X_train)"
      ],
      "execution_count": null,
      "outputs": [
        {
          "output_type": "execute_result",
          "data": {
            "text/plain": [
              "VarianceThreshold(threshold=0.8)"
            ]
          },
          "metadata": {
            "tags": []
          },
          "execution_count": 231
        }
      ]
    },
    {
      "cell_type": "code",
      "metadata": {
        "colab": {
          "base_uri": "https://localhost:8080/"
        },
        "id": "FaLV_TfAOWf7",
        "outputId": "6e1e4d71-e147-407e-9c00-ab4bd223884e"
      },
      "source": [
        "sel.variances_"
      ],
      "execution_count": null,
      "outputs": [
        {
          "output_type": "execute_result",
          "data": {
            "text/plain": [
              "array([3.62967142e-01, 4.91780962e+04, 1.24249683e+06, 7.41695395e-02,\n",
              "       1.33802346e+02, 1.22505921e+01, 7.56987017e+01, 1.12862040e-01,\n",
              "       1.21212269e+01, 7.67165965e+01, 1.40767391e+04, 5.45556060e+07])"
            ]
          },
          "metadata": {
            "tags": []
          },
          "execution_count": 232
        }
      ]
    },
    {
      "cell_type": "code",
      "metadata": {
        "colab": {
          "base_uri": "https://localhost:8080/"
        },
        "id": "cLLaMn0tOZvA",
        "outputId": "dcc5e9e7-8b3b-467c-ef75-1e116c15222b"
      },
      "source": [
        "main_test.isna().sum()"
      ],
      "execution_count": null,
      "outputs": [
        {
          "output_type": "execute_result",
          "data": {
            "text/plain": [
              "business_code               0\n",
              "cust_number                 0\n",
              "name_customer               0\n",
              "buisness_year               0\n",
              "posting_date                0\n",
              "due_in_date                 0\n",
              "invoice_currency            0\n",
              "total_open_amount           0\n",
              "baseline_create_date        0\n",
              "cust_payment_terms          0\n",
              "delay                   10000\n",
              "dtype: int64"
            ]
          },
          "metadata": {
            "tags": []
          },
          "execution_count": 233
        }
      ]
    },
    {
      "cell_type": "code",
      "metadata": {
        "id": "y6axLnAqOcJY"
      },
      "source": [
        "X_main_test = main_test.drop(['delay'],axis=1)\n",
        "X_main_test\n",
        "\n",
        "# ALSO LETS DROP Delay FROM MAIN TEST ITSELF\n",
        "main_test.drop(['delay'], inplace =True,axis=1)"
      ],
      "execution_count": null,
      "outputs": []
    },
    {
      "cell_type": "code",
      "metadata": {
        "colab": {
          "base_uri": "https://localhost:8080/",
          "height": 418
        },
        "id": "6DlRrnIfPQlj",
        "outputId": "7a405906-caa4-4032-82fb-a393d827cc10"
      },
      "source": [
        "X_main_test"
      ],
      "execution_count": null,
      "outputs": [
        {
          "output_type": "execute_result",
          "data": {
            "text/html": [
              "<div>\n",
              "<style scoped>\n",
              "    .dataframe tbody tr th:only-of-type {\n",
              "        vertical-align: middle;\n",
              "    }\n",
              "\n",
              "    .dataframe tbody tr th {\n",
              "        vertical-align: top;\n",
              "    }\n",
              "\n",
              "    .dataframe thead th {\n",
              "        text-align: right;\n",
              "    }\n",
              "</style>\n",
              "<table border=\"1\" class=\"dataframe\">\n",
              "  <thead>\n",
              "    <tr style=\"text-align: right;\">\n",
              "      <th></th>\n",
              "      <th>business_code</th>\n",
              "      <th>cust_number</th>\n",
              "      <th>name_customer</th>\n",
              "      <th>buisness_year</th>\n",
              "      <th>posting_date</th>\n",
              "      <th>due_in_date</th>\n",
              "      <th>invoice_currency</th>\n",
              "      <th>total_open_amount</th>\n",
              "      <th>baseline_create_date</th>\n",
              "      <th>cust_payment_terms</th>\n",
              "    </tr>\n",
              "  </thead>\n",
              "  <tbody>\n",
              "    <tr>\n",
              "      <th>6</th>\n",
              "      <td>U001</td>\n",
              "      <td>0200148860</td>\n",
              "      <td>DOLLA co</td>\n",
              "      <td>2020.0</td>\n",
              "      <td>2020-04-10</td>\n",
              "      <td>2020-06-14</td>\n",
              "      <td>USD</td>\n",
              "      <td>8506.12</td>\n",
              "      <td>20200410.0</td>\n",
              "      <td>NAGD</td>\n",
              "    </tr>\n",
              "    <tr>\n",
              "      <th>12</th>\n",
              "      <td>U001</td>\n",
              "      <td>200418007</td>\n",
              "      <td>AM foundation</td>\n",
              "      <td>2020.0</td>\n",
              "      <td>2020-03-28</td>\n",
              "      <td>2020-04-12</td>\n",
              "      <td>USD</td>\n",
              "      <td>8252.36</td>\n",
              "      <td>20200328.0</td>\n",
              "      <td>NAA8</td>\n",
              "    </tr>\n",
              "    <tr>\n",
              "      <th>23</th>\n",
              "      <td>U001</td>\n",
              "      <td>0200769623</td>\n",
              "      <td>WAL-MAR systems</td>\n",
              "      <td>2020.0</td>\n",
              "      <td>2020-04-24</td>\n",
              "      <td>2020-05-09</td>\n",
              "      <td>USD</td>\n",
              "      <td>38575.02</td>\n",
              "      <td>20200424.0</td>\n",
              "      <td>NAH4</td>\n",
              "    </tr>\n",
              "    <tr>\n",
              "      <th>24</th>\n",
              "      <td>U001</td>\n",
              "      <td>0200726979</td>\n",
              "      <td>BJ'S</td>\n",
              "      <td>2020.0</td>\n",
              "      <td>2020-04-23</td>\n",
              "      <td>2020-05-08</td>\n",
              "      <td>USD</td>\n",
              "      <td>1037.59</td>\n",
              "      <td>20200423.0</td>\n",
              "      <td>NAA8</td>\n",
              "    </tr>\n",
              "    <tr>\n",
              "      <th>27</th>\n",
              "      <td>U001</td>\n",
              "      <td>200936373</td>\n",
              "      <td>SUPE us</td>\n",
              "      <td>2020.0</td>\n",
              "      <td>2020-05-01</td>\n",
              "      <td>2020-05-16</td>\n",
              "      <td>USD</td>\n",
              "      <td>153237.08</td>\n",
              "      <td>20200501.0</td>\n",
              "      <td>NAA8</td>\n",
              "    </tr>\n",
              "    <tr>\n",
              "      <th>...</th>\n",
              "      <td>...</td>\n",
              "      <td>...</td>\n",
              "      <td>...</td>\n",
              "      <td>...</td>\n",
              "      <td>...</td>\n",
              "      <td>...</td>\n",
              "      <td>...</td>\n",
              "      <td>...</td>\n",
              "      <td>...</td>\n",
              "      <td>...</td>\n",
              "    </tr>\n",
              "    <tr>\n",
              "      <th>49976</th>\n",
              "      <td>U001</td>\n",
              "      <td>0200769623</td>\n",
              "      <td>WAL-MAR in</td>\n",
              "      <td>2020.0</td>\n",
              "      <td>2020-04-25</td>\n",
              "      <td>2020-05-10</td>\n",
              "      <td>USD</td>\n",
              "      <td>5932.07</td>\n",
              "      <td>20200425.0</td>\n",
              "      <td>NAH4</td>\n",
              "    </tr>\n",
              "    <tr>\n",
              "      <th>49978</th>\n",
              "      <td>U001</td>\n",
              "      <td>0200769623</td>\n",
              "      <td>WAL-MAR foundation</td>\n",
              "      <td>2020.0</td>\n",
              "      <td>2020-03-04</td>\n",
              "      <td>2020-03-19</td>\n",
              "      <td>USD</td>\n",
              "      <td>48856.58</td>\n",
              "      <td>20200304.0</td>\n",
              "      <td>NAH4</td>\n",
              "    </tr>\n",
              "    <tr>\n",
              "      <th>49986</th>\n",
              "      <td>CA02</td>\n",
              "      <td>0140104409</td>\n",
              "      <td>LOB co</td>\n",
              "      <td>2020.0</td>\n",
              "      <td>2020-04-14</td>\n",
              "      <td>2020-04-26</td>\n",
              "      <td>CAD</td>\n",
              "      <td>45816.32</td>\n",
              "      <td>20200416.0</td>\n",
              "      <td>CA10</td>\n",
              "    </tr>\n",
              "    <tr>\n",
              "      <th>49992</th>\n",
              "      <td>U001</td>\n",
              "      <td>0200772595</td>\n",
              "      <td>SAFEW trust</td>\n",
              "      <td>2020.0</td>\n",
              "      <td>2020-03-27</td>\n",
              "      <td>2020-04-11</td>\n",
              "      <td>USD</td>\n",
              "      <td>154963.96</td>\n",
              "      <td>20200327.0</td>\n",
              "      <td>NAA8</td>\n",
              "    </tr>\n",
              "    <tr>\n",
              "      <th>49999</th>\n",
              "      <td>U001</td>\n",
              "      <td>0200773364</td>\n",
              "      <td>U R M  llc</td>\n",
              "      <td>2020.0</td>\n",
              "      <td>2020-03-30</td>\n",
              "      <td>2020-06-03</td>\n",
              "      <td>USD</td>\n",
              "      <td>1570.86</td>\n",
              "      <td>20200330.0</td>\n",
              "      <td>NAGD</td>\n",
              "    </tr>\n",
              "  </tbody>\n",
              "</table>\n",
              "<p>10000 rows × 10 columns</p>\n",
              "</div>"
            ],
            "text/plain": [
              "      business_code cust_number  ... baseline_create_date  cust_payment_terms\n",
              "6              U001  0200148860  ...           20200410.0                NAGD\n",
              "12             U001   200418007  ...           20200328.0                NAA8\n",
              "23             U001  0200769623  ...           20200424.0                NAH4\n",
              "24             U001  0200726979  ...           20200423.0                NAA8\n",
              "27             U001   200936373  ...           20200501.0                NAA8\n",
              "...             ...         ...  ...                  ...                 ...\n",
              "49976          U001  0200769623  ...           20200425.0                NAH4\n",
              "49978          U001  0200769623  ...           20200304.0                NAH4\n",
              "49986          CA02  0140104409  ...           20200416.0                CA10\n",
              "49992          U001  0200772595  ...           20200327.0                NAA8\n",
              "49999          U001  0200773364  ...           20200330.0                NAGD\n",
              "\n",
              "[10000 rows x 10 columns]"
            ]
          },
          "metadata": {
            "tags": []
          },
          "execution_count": 235
        }
      ]
    },
    {
      "cell_type": "code",
      "metadata": {
        "id": "8kCBSsGGpO36"
      },
      "source": [
        "X_main_test['business_code_enc'] = business_code_encoder.transform(X_main_test['business_code'])"
      ],
      "execution_count": null,
      "outputs": []
    },
    {
      "cell_type": "code",
      "metadata": {
        "id": "pR68_sa_qwFU"
      },
      "source": [
        "temp = set(X_main_test['cust_number'])-set(cust_number_encoder.classes_)\n",
        "for items in temp:\n",
        "    cust_number_encoder.classes_= np.append(cust_number_encoder.classes_,items)\n",
        "\n",
        "X_main_test['cust_number_enc'] = cust_number_encoder.transform(X_main_test['cust_number'])"
      ],
      "execution_count": null,
      "outputs": []
    },
    {
      "cell_type": "code",
      "metadata": {
        "id": "VXI4kc91srVp"
      },
      "source": [
        "temp2 = set(X_main_test['name_customer'])-set(name_customer_encoder.classes_)\n",
        "for items in temp2:\n",
        "    name_customer_encoder.classes_= np.append(name_customer_encoder.classes_,items)\n",
        "    \n",
        "X_main_test['name_customer_enc'] = name_customer_encoder.transform(X_main_test['name_customer'])"
      ],
      "execution_count": null,
      "outputs": []
    },
    {
      "cell_type": "code",
      "metadata": {
        "id": "ELpOeLF6xQq9"
      },
      "source": [
        "X_main_test['month'] = X_main_test['posting_date'].dt.month\n",
        "X_main_test['days'] = X_main_test['posting_date'].dt.day"
      ],
      "execution_count": null,
      "outputs": []
    },
    {
      "cell_type": "code",
      "metadata": {
        "id": "m_SZIt8gtDBg"
      },
      "source": [
        "X_main_test['buisness_year_enc'] = buisness_year_encoder.transform(X_main_test['buisness_year'])"
      ],
      "execution_count": null,
      "outputs": []
    },
    {
      "cell_type": "code",
      "metadata": {
        "id": "dWdKAP91xssq"
      },
      "source": [
        "\n",
        "X_main_test['month_due'] = X_main_test['due_in_date'].dt.month\n",
        "X_main_test['days_due'] = X_main_test['due_in_date'].dt.day"
      ],
      "execution_count": null,
      "outputs": []
    },
    {
      "cell_type": "code",
      "metadata": {
        "id": "bkDOMx-gyQkx"
      },
      "source": [
        "X_main_test['invoice_currency_enc'] = invoice_currency_encoder.transform(X_main_test['invoice_currency'])"
      ],
      "execution_count": null,
      "outputs": []
    },
    {
      "cell_type": "code",
      "metadata": {
        "id": "FySk--_8ykUT"
      },
      "source": [
        "temp3 = set(X_main_test['cust_payment_terms'])-set(cust_payment_terms_encoder.classes_)\n",
        "for items in temp3:\n",
        "    cust_payment_terms_encoder.classes_= np.append(cust_payment_terms_encoder.classes_,items)\n",
        "    \n",
        "X_main_test['cust_payment_terms_enc'] = cust_payment_terms_encoder.transform(X_main_test['cust_payment_terms'])"
      ],
      "execution_count": null,
      "outputs": []
    },
    {
      "cell_type": "code",
      "metadata": {
        "id": "rTTZbkavy91v"
      },
      "source": [
        "temp4 = set(X_main_test['baseline_create_date'])-set(baseline_create_date_encoder.classes_)\n",
        "for items in temp4:\n",
        "    baseline_create_date_encoder.classes_= np.append(baseline_create_date_encoder.classes_,items)\n",
        "    \n",
        "X_main_test['baseline_create_date_enc'] = baseline_create_date_encoder.transform(X_main_test['baseline_create_date'])"
      ],
      "execution_count": null,
      "outputs": []
    },
    {
      "cell_type": "code",
      "metadata": {
        "id": "BN_ShHSkzbjD"
      },
      "source": [
        "temp5 = set(X_main_test['total_open_amount'])-set(total_open_amount_encoder.classes_)\n",
        "for items in temp5:\n",
        "    total_open_amount_encoder.classes_= np.append(total_open_amount_encoder.classes_,items)\n",
        "\n",
        "X_main_test['total_open_amount_enc'] = total_open_amount_encoder.transform(X_main_test['total_open_amount'])"
      ],
      "execution_count": null,
      "outputs": []
    },
    {
      "cell_type": "code",
      "metadata": {
        "colab": {
          "base_uri": "https://localhost:8080/"
        },
        "id": "ObWFvngGz5r-",
        "outputId": "a7cfe7b6-ec81-48ee-c2d2-2a0e260c0b79"
      },
      "source": [
        "X_main_test.info()"
      ],
      "execution_count": null,
      "outputs": [
        {
          "output_type": "stream",
          "text": [
            "<class 'pandas.core.frame.DataFrame'>\n",
            "Int64Index: 10000 entries, 6 to 49999\n",
            "Data columns (total 22 columns):\n",
            " #   Column                    Non-Null Count  Dtype         \n",
            "---  ------                    --------------  -----         \n",
            " 0   business_code             10000 non-null  object        \n",
            " 1   cust_number               10000 non-null  object        \n",
            " 2   name_customer             10000 non-null  object        \n",
            " 3   buisness_year             10000 non-null  float64       \n",
            " 4   posting_date              10000 non-null  datetime64[ns]\n",
            " 5   due_in_date               10000 non-null  datetime64[ns]\n",
            " 6   invoice_currency          10000 non-null  object        \n",
            " 7   total_open_amount         10000 non-null  float64       \n",
            " 8   baseline_create_date      10000 non-null  float64       \n",
            " 9   cust_payment_terms        10000 non-null  object        \n",
            " 10  business_code_enc         10000 non-null  int64         \n",
            " 11  cust_number_enc           10000 non-null  int64         \n",
            " 12  name_customer_enc         10000 non-null  int64         \n",
            " 13  month                     10000 non-null  int64         \n",
            " 14  days                      10000 non-null  int64         \n",
            " 15  buisness_year_enc         10000 non-null  int64         \n",
            " 16  month_due                 10000 non-null  int64         \n",
            " 17  days_due                  10000 non-null  int64         \n",
            " 18  invoice_currency_enc      10000 non-null  int64         \n",
            " 19  cust_payment_terms_enc    10000 non-null  int64         \n",
            " 20  baseline_create_date_enc  10000 non-null  int64         \n",
            " 21  total_open_amount_enc     10000 non-null  int64         \n",
            "dtypes: datetime64[ns](2), float64(3), int64(12), object(5)\n",
            "memory usage: 1.8+ MB\n"
          ],
          "name": "stdout"
        }
      ]
    },
    {
      "cell_type": "code",
      "metadata": {
        "id": "oBQ-zUrDzsZZ"
      },
      "source": [
        "X_main_test.drop(['business_code','cust_number','name_customer','buisness_year','posting_date','due_in_date','invoice_currency','total_open_amount','baseline_create_date','cust_payment_terms'],inplace =True ,axis=1)"
      ],
      "execution_count": null,
      "outputs": []
    },
    {
      "cell_type": "code",
      "metadata": {
        "colab": {
          "base_uri": "https://localhost:8080/"
        },
        "id": "2Y_KjY020ZVT",
        "outputId": "871ec544-5a61-4c09-82fe-ec21d22f6d06"
      },
      "source": [
        "from sklearn.linear_model import LinearRegression\n",
        "base_model = LinearRegression()\n",
        "base_model.fit(X_train, y_train)"
      ],
      "execution_count": null,
      "outputs": [
        {
          "output_type": "execute_result",
          "data": {
            "text/plain": [
              "LinearRegression(copy_X=True, fit_intercept=True, n_jobs=None, normalize=False)"
            ]
          },
          "metadata": {
            "tags": []
          },
          "execution_count": 248
        }
      ]
    },
    {
      "cell_type": "code",
      "metadata": {
        "id": "FfpDls3n0f0v"
      },
      "source": [
        "y_predict = base_model.predict(X_val)"
      ],
      "execution_count": null,
      "outputs": []
    },
    {
      "cell_type": "code",
      "metadata": {
        "colab": {
          "base_uri": "https://localhost:8080/"
        },
        "id": "0n710oUE1N4f",
        "outputId": "00bea746-bef6-4511-b1f8-4a25bf031560"
      },
      "source": [
        "\n",
        "from sklearn.metrics import mean_squared_error\n",
        "\n",
        "mean_squared_error(y_val, y_predict, squared=False)"
      ],
      "execution_count": null,
      "outputs": [
        {
          "output_type": "execute_result",
          "data": {
            "text/plain": [
              "10.316376894987872"
            ]
          },
          "metadata": {
            "tags": []
          },
          "execution_count": 250
        }
      ]
    },
    {
      "cell_type": "code",
      "metadata": {
        "id": "yLfNw6DcG8VQ"
      },
      "source": [
        "from sklearn.tree import DecisionTreeRegressor\n",
        "regressor = DecisionTreeRegressor(random_state=0 , max_depth=5,max_leaf_nodes=5)"
      ],
      "execution_count": null,
      "outputs": []
    },
    {
      "cell_type": "code",
      "metadata": {
        "colab": {
          "base_uri": "https://localhost:8080/"
        },
        "id": "HOy2ufQCHApU",
        "outputId": "08c39662-6c4c-46a7-e0f7-1868b7566be6"
      },
      "source": [
        "regressor.fit(X_train, y_train)"
      ],
      "execution_count": null,
      "outputs": [
        {
          "output_type": "execute_result",
          "data": {
            "text/plain": [
              "DecisionTreeRegressor(ccp_alpha=0.0, criterion='mse', max_depth=5,\n",
              "                      max_features=None, max_leaf_nodes=5,\n",
              "                      min_impurity_decrease=0.0, min_impurity_split=None,\n",
              "                      min_samples_leaf=1, min_samples_split=2,\n",
              "                      min_weight_fraction_leaf=0.0, presort='deprecated',\n",
              "                      random_state=0, splitter='best')"
            ]
          },
          "metadata": {
            "tags": []
          },
          "execution_count": 252
        }
      ]
    },
    {
      "cell_type": "code",
      "metadata": {
        "id": "MJNVt0DBHCrL"
      },
      "source": [
        "y_predict2 = regressor.predict(X_val)"
      ],
      "execution_count": null,
      "outputs": []
    },
    {
      "cell_type": "code",
      "metadata": {
        "colab": {
          "base_uri": "https://localhost:8080/"
        },
        "id": "LmwFJsCdHExA",
        "outputId": "defd3b1e-0459-459f-ce0c-6a35d744e642"
      },
      "source": [
        "mean_squared_error(y_val, y_predict2, squared=False)"
      ],
      "execution_count": null,
      "outputs": [
        {
          "output_type": "execute_result",
          "data": {
            "text/plain": [
              "9.183634412410155"
            ]
          },
          "metadata": {
            "tags": []
          },
          "execution_count": 254
        }
      ]
    },
    {
      "cell_type": "code",
      "metadata": {
        "id": "ciajhxE5HHo4"
      },
      "source": [
        "final_result = regressor.predict(X_main_test)"
      ],
      "execution_count": null,
      "outputs": []
    },
    {
      "cell_type": "code",
      "metadata": {
        "id": "X9H6dwABHPOY"
      },
      "source": [
        "final_result = pd.Series(final_result,name='delay')"
      ],
      "execution_count": null,
      "outputs": []
    },
    {
      "cell_type": "code",
      "metadata": {
        "id": "IykFipmDJhZv"
      },
      "source": [
        "main_test.reset_index(drop=True,inplace=True)"
      ],
      "execution_count": null,
      "outputs": []
    },
    {
      "cell_type": "code",
      "metadata": {
        "colab": {
          "base_uri": "https://localhost:8080/",
          "height": 418
        },
        "id": "_hJoPpnfJkuq",
        "outputId": "1cd5cfb2-0f14-4572-a48f-2121529484c3"
      },
      "source": [
        "Final = main_test.merge(final_result , on = X_main_test.index )\n",
        "Final"
      ],
      "execution_count": null,
      "outputs": [
        {
          "output_type": "execute_result",
          "data": {
            "text/html": [
              "<div>\n",
              "<style scoped>\n",
              "    .dataframe tbody tr th:only-of-type {\n",
              "        vertical-align: middle;\n",
              "    }\n",
              "\n",
              "    .dataframe tbody tr th {\n",
              "        vertical-align: top;\n",
              "    }\n",
              "\n",
              "    .dataframe thead th {\n",
              "        text-align: right;\n",
              "    }\n",
              "</style>\n",
              "<table border=\"1\" class=\"dataframe\">\n",
              "  <thead>\n",
              "    <tr style=\"text-align: right;\">\n",
              "      <th></th>\n",
              "      <th>key_0</th>\n",
              "      <th>business_code</th>\n",
              "      <th>cust_number</th>\n",
              "      <th>name_customer</th>\n",
              "      <th>buisness_year</th>\n",
              "      <th>posting_date</th>\n",
              "      <th>due_in_date</th>\n",
              "      <th>invoice_currency</th>\n",
              "      <th>total_open_amount</th>\n",
              "      <th>baseline_create_date</th>\n",
              "      <th>cust_payment_terms</th>\n",
              "      <th>delay</th>\n",
              "    </tr>\n",
              "  </thead>\n",
              "  <tbody>\n",
              "    <tr>\n",
              "      <th>0</th>\n",
              "      <td>6</td>\n",
              "      <td>U001</td>\n",
              "      <td>0200148860</td>\n",
              "      <td>DOLLA co</td>\n",
              "      <td>2020.0</td>\n",
              "      <td>2020-04-10</td>\n",
              "      <td>2020-06-14</td>\n",
              "      <td>USD</td>\n",
              "      <td>8506.12</td>\n",
              "      <td>20200410.0</td>\n",
              "      <td>NAGD</td>\n",
              "      <td>1.876922</td>\n",
              "    </tr>\n",
              "    <tr>\n",
              "      <th>1</th>\n",
              "      <td>12</td>\n",
              "      <td>U001</td>\n",
              "      <td>200418007</td>\n",
              "      <td>AM foundation</td>\n",
              "      <td>2020.0</td>\n",
              "      <td>2020-03-28</td>\n",
              "      <td>2020-04-12</td>\n",
              "      <td>USD</td>\n",
              "      <td>8252.36</td>\n",
              "      <td>20200328.0</td>\n",
              "      <td>NAA8</td>\n",
              "      <td>1.876922</td>\n",
              "    </tr>\n",
              "    <tr>\n",
              "      <th>2</th>\n",
              "      <td>23</td>\n",
              "      <td>U001</td>\n",
              "      <td>0200769623</td>\n",
              "      <td>WAL-MAR systems</td>\n",
              "      <td>2020.0</td>\n",
              "      <td>2020-04-24</td>\n",
              "      <td>2020-05-09</td>\n",
              "      <td>USD</td>\n",
              "      <td>38575.02</td>\n",
              "      <td>20200424.0</td>\n",
              "      <td>NAH4</td>\n",
              "      <td>1.876922</td>\n",
              "    </tr>\n",
              "    <tr>\n",
              "      <th>3</th>\n",
              "      <td>24</td>\n",
              "      <td>U001</td>\n",
              "      <td>0200726979</td>\n",
              "      <td>BJ'S</td>\n",
              "      <td>2020.0</td>\n",
              "      <td>2020-04-23</td>\n",
              "      <td>2020-05-08</td>\n",
              "      <td>USD</td>\n",
              "      <td>1037.59</td>\n",
              "      <td>20200423.0</td>\n",
              "      <td>NAA8</td>\n",
              "      <td>1.876922</td>\n",
              "    </tr>\n",
              "    <tr>\n",
              "      <th>4</th>\n",
              "      <td>27</td>\n",
              "      <td>U001</td>\n",
              "      <td>200936373</td>\n",
              "      <td>SUPE us</td>\n",
              "      <td>2020.0</td>\n",
              "      <td>2020-05-01</td>\n",
              "      <td>2020-05-16</td>\n",
              "      <td>USD</td>\n",
              "      <td>153237.08</td>\n",
              "      <td>20200501.0</td>\n",
              "      <td>NAA8</td>\n",
              "      <td>1.876922</td>\n",
              "    </tr>\n",
              "    <tr>\n",
              "      <th>...</th>\n",
              "      <td>...</td>\n",
              "      <td>...</td>\n",
              "      <td>...</td>\n",
              "      <td>...</td>\n",
              "      <td>...</td>\n",
              "      <td>...</td>\n",
              "      <td>...</td>\n",
              "      <td>...</td>\n",
              "      <td>...</td>\n",
              "      <td>...</td>\n",
              "      <td>...</td>\n",
              "      <td>...</td>\n",
              "    </tr>\n",
              "    <tr>\n",
              "      <th>9995</th>\n",
              "      <td>49976</td>\n",
              "      <td>U001</td>\n",
              "      <td>0200769623</td>\n",
              "      <td>WAL-MAR in</td>\n",
              "      <td>2020.0</td>\n",
              "      <td>2020-04-25</td>\n",
              "      <td>2020-05-10</td>\n",
              "      <td>USD</td>\n",
              "      <td>5932.07</td>\n",
              "      <td>20200425.0</td>\n",
              "      <td>NAH4</td>\n",
              "      <td>1.876922</td>\n",
              "    </tr>\n",
              "    <tr>\n",
              "      <th>9996</th>\n",
              "      <td>49978</td>\n",
              "      <td>U001</td>\n",
              "      <td>0200769623</td>\n",
              "      <td>WAL-MAR foundation</td>\n",
              "      <td>2020.0</td>\n",
              "      <td>2020-03-04</td>\n",
              "      <td>2020-03-19</td>\n",
              "      <td>USD</td>\n",
              "      <td>48856.58</td>\n",
              "      <td>20200304.0</td>\n",
              "      <td>NAH4</td>\n",
              "      <td>1.876922</td>\n",
              "    </tr>\n",
              "    <tr>\n",
              "      <th>9997</th>\n",
              "      <td>49986</td>\n",
              "      <td>CA02</td>\n",
              "      <td>0140104409</td>\n",
              "      <td>LOB co</td>\n",
              "      <td>2020.0</td>\n",
              "      <td>2020-04-14</td>\n",
              "      <td>2020-04-26</td>\n",
              "      <td>CAD</td>\n",
              "      <td>45816.32</td>\n",
              "      <td>20200416.0</td>\n",
              "      <td>CA10</td>\n",
              "      <td>1.876922</td>\n",
              "    </tr>\n",
              "    <tr>\n",
              "      <th>9998</th>\n",
              "      <td>49992</td>\n",
              "      <td>U001</td>\n",
              "      <td>0200772595</td>\n",
              "      <td>SAFEW trust</td>\n",
              "      <td>2020.0</td>\n",
              "      <td>2020-03-27</td>\n",
              "      <td>2020-04-11</td>\n",
              "      <td>USD</td>\n",
              "      <td>154963.96</td>\n",
              "      <td>20200327.0</td>\n",
              "      <td>NAA8</td>\n",
              "      <td>1.876922</td>\n",
              "    </tr>\n",
              "    <tr>\n",
              "      <th>9999</th>\n",
              "      <td>49999</td>\n",
              "      <td>U001</td>\n",
              "      <td>0200773364</td>\n",
              "      <td>U R M  llc</td>\n",
              "      <td>2020.0</td>\n",
              "      <td>2020-03-30</td>\n",
              "      <td>2020-06-03</td>\n",
              "      <td>USD</td>\n",
              "      <td>1570.86</td>\n",
              "      <td>20200330.0</td>\n",
              "      <td>NAGD</td>\n",
              "      <td>1.876922</td>\n",
              "    </tr>\n",
              "  </tbody>\n",
              "</table>\n",
              "<p>10000 rows × 12 columns</p>\n",
              "</div>"
            ],
            "text/plain": [
              "      key_0 business_code  ... cust_payment_terms     delay\n",
              "0         6          U001  ...               NAGD  1.876922\n",
              "1        12          U001  ...               NAA8  1.876922\n",
              "2        23          U001  ...               NAH4  1.876922\n",
              "3        24          U001  ...               NAA8  1.876922\n",
              "4        27          U001  ...               NAA8  1.876922\n",
              "...     ...           ...  ...                ...       ...\n",
              "9995  49976          U001  ...               NAH4  1.876922\n",
              "9996  49978          U001  ...               NAH4  1.876922\n",
              "9997  49986          CA02  ...               CA10  1.876922\n",
              "9998  49992          U001  ...               NAA8  1.876922\n",
              "9999  49999          U001  ...               NAGD  1.876922\n",
              "\n",
              "[10000 rows x 12 columns]"
            ]
          },
          "metadata": {
            "tags": []
          },
          "execution_count": 258
        }
      ]
    },
    {
      "cell_type": "code",
      "metadata": {
        "colab": {
          "base_uri": "https://localhost:8080/"
        },
        "id": "szUhOWs9fesL",
        "outputId": "a17126e0-66d6-4348-bb0d-f1f10438f5c1"
      },
      "source": [
        "regressor_accuracy=round(regressor.score(X_train,y_train)*100,2)\n",
        "print(round(regressor_accuracy,2),'%')"
      ],
      "execution_count": null,
      "outputs": [
        {
          "output_type": "stream",
          "text": [
            "30.58 %\n"
          ],
          "name": "stdout"
        }
      ]
    },
    {
      "cell_type": "markdown",
      "metadata": {
        "id": "D_1H5vIdgaRO"
      },
      "source": [
        "#BUCKET LIST"
      ]
    },
    {
      "cell_type": "code",
      "metadata": {
        "colab": {
          "base_uri": "https://localhost:8080/"
        },
        "id": "G-_TNAtDc95q",
        "outputId": "60bee1e3-ad63-4d6b-c2c0-822032ed0851"
      },
      "source": [
        "real_time_data =regressor.predict(X_test)\n",
        "real_time_data[0:3]"
      ],
      "execution_count": null,
      "outputs": [
        {
          "output_type": "execute_result",
          "data": {
            "text/plain": [
              "array([-2.18218788, -2.18218788, -2.18218788])"
            ]
          },
          "metadata": {
            "tags": []
          },
          "execution_count": 260
        }
      ]
    },
    {
      "cell_type": "code",
      "metadata": {
        "colab": {
          "base_uri": "https://localhost:8080/",
          "height": 204
        },
        "id": "I29-slhYdY4M",
        "outputId": "c06b9aa1-897c-480c-f92f-247bf26aaf09"
      },
      "source": [
        "def Mapping(x):\n",
        "    temp = []\n",
        "    for i in list(x):\n",
        "        if i < 0:\n",
        "            temp.append(\"befor due\")\n",
        "        elif i==0:\n",
        "            temp.append(\" ON due \")\n",
        "        else :\n",
        "            temp.append(\" after due \")\n",
        "    return temp\n",
        "\n",
        "col = Mapping(real_time_data)\n",
        "bucket = pd.DataFrame()\n",
        "bucket['Predictions'] = real_time_data\n",
        "bucket['Bucket_list'] = col\n",
        "bucket.head()"
      ],
      "execution_count": null,
      "outputs": [
        {
          "output_type": "execute_result",
          "data": {
            "text/html": [
              "<div>\n",
              "<style scoped>\n",
              "    .dataframe tbody tr th:only-of-type {\n",
              "        vertical-align: middle;\n",
              "    }\n",
              "\n",
              "    .dataframe tbody tr th {\n",
              "        vertical-align: top;\n",
              "    }\n",
              "\n",
              "    .dataframe thead th {\n",
              "        text-align: right;\n",
              "    }\n",
              "</style>\n",
              "<table border=\"1\" class=\"dataframe\">\n",
              "  <thead>\n",
              "    <tr style=\"text-align: right;\">\n",
              "      <th></th>\n",
              "      <th>Predictions</th>\n",
              "      <th>Bucket_list</th>\n",
              "    </tr>\n",
              "  </thead>\n",
              "  <tbody>\n",
              "    <tr>\n",
              "      <th>0</th>\n",
              "      <td>-2.182188</td>\n",
              "      <td>befor due</td>\n",
              "    </tr>\n",
              "    <tr>\n",
              "      <th>1</th>\n",
              "      <td>-2.182188</td>\n",
              "      <td>befor due</td>\n",
              "    </tr>\n",
              "    <tr>\n",
              "      <th>2</th>\n",
              "      <td>-2.182188</td>\n",
              "      <td>befor due</td>\n",
              "    </tr>\n",
              "    <tr>\n",
              "      <th>3</th>\n",
              "      <td>-2.182188</td>\n",
              "      <td>befor due</td>\n",
              "    </tr>\n",
              "    <tr>\n",
              "      <th>4</th>\n",
              "      <td>1.876922</td>\n",
              "      <td>after due</td>\n",
              "    </tr>\n",
              "  </tbody>\n",
              "</table>\n",
              "</div>"
            ],
            "text/plain": [
              "   Predictions  Bucket_list\n",
              "0    -2.182188    befor due\n",
              "1    -2.182188    befor due\n",
              "2    -2.182188    befor due\n",
              "3    -2.182188    befor due\n",
              "4     1.876922   after due "
            ]
          },
          "metadata": {
            "tags": []
          },
          "execution_count": 261
        }
      ]
    },
    {
      "cell_type": "code",
      "metadata": {
        "id": "uQPlKs8pivCU"
      },
      "source": [
        ""
      ],
      "execution_count": null,
      "outputs": []
    }
  ]
}